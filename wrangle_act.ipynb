{
 "cells": [
  {
   "cell_type": "markdown",
   "metadata": {
    "extensions": {
     "jupyter_dashboards": {
      "version": 1,
      "views": {
       "grid_default": {
        "col": 0,
        "height": 4,
        "hidden": false,
        "row": 0,
        "width": 4
       },
       "report_default": {
        "hidden": false
       }
      }
     }
    }
   },
   "source": [
    "# Project: Wrangling and Analyze Data"
   ]
  },
  {
   "cell_type": "markdown",
   "metadata": {},
   "source": [
    "## Data Gathering\n",
    "In the cell below, gather **all** three pieces of data for this project and load them in the notebook. **Note:** the methods required to gather each data are different.\n",
    "1. Directly download the WeRateDogs Twitter archive data (twitter_archive_enhanced.csv)"
   ]
  },
  {
   "cell_type": "code",
   "execution_count": 791,
   "metadata": {
    "extensions": {
     "jupyter_dashboards": {
      "version": 1,
      "views": {
       "grid_default": {
        "hidden": true
       },
       "report_default": {
        "hidden": true
       }
      }
     }
    }
   },
   "outputs": [],
   "source": [
    "import requests\n",
    "import pandas as pd\n",
    "import tweepy\n",
    "df_archive = pd.read_csv(\"twitter-archive-enhanced.csv\")"
   ]
  },
  {
   "cell_type": "code",
   "execution_count": 792,
   "metadata": {},
   "outputs": [
    {
     "name": "stdout",
     "output_type": "stream",
     "text": [
      "<class 'pandas.core.frame.DataFrame'>\n",
      "RangeIndex: 2356 entries, 0 to 2355\n",
      "Data columns (total 17 columns):\n",
      " #   Column                      Non-Null Count  Dtype  \n",
      "---  ------                      --------------  -----  \n",
      " 0   tweet_id                    2356 non-null   int64  \n",
      " 1   in_reply_to_status_id       78 non-null     float64\n",
      " 2   in_reply_to_user_id         78 non-null     float64\n",
      " 3   timestamp                   2356 non-null   object \n",
      " 4   source                      2356 non-null   object \n",
      " 5   text                        2356 non-null   object \n",
      " 6   retweeted_status_id         181 non-null    float64\n",
      " 7   retweeted_status_user_id    181 non-null    float64\n",
      " 8   retweeted_status_timestamp  181 non-null    object \n",
      " 9   expanded_urls               2297 non-null   object \n",
      " 10  rating_numerator            2356 non-null   int64  \n",
      " 11  rating_denominator          2356 non-null   int64  \n",
      " 12  name                        2356 non-null   object \n",
      " 13  doggo                       2356 non-null   object \n",
      " 14  floofer                     2356 non-null   object \n",
      " 15  pupper                      2356 non-null   object \n",
      " 16  puppo                       2356 non-null   object \n",
      "dtypes: float64(4), int64(3), object(10)\n",
      "memory usage: 313.0+ KB\n"
     ]
    }
   ],
   "source": [
    "df_archive.info()"
   ]
  },
  {
   "cell_type": "code",
   "execution_count": 793,
   "metadata": {},
   "outputs": [
    {
     "data": {
      "text/html": [
       "<div>\n",
       "<style scoped>\n",
       "    .dataframe tbody tr th:only-of-type {\n",
       "        vertical-align: middle;\n",
       "    }\n",
       "\n",
       "    .dataframe tbody tr th {\n",
       "        vertical-align: top;\n",
       "    }\n",
       "\n",
       "    .dataframe thead th {\n",
       "        text-align: right;\n",
       "    }\n",
       "</style>\n",
       "<table border=\"1\" class=\"dataframe\">\n",
       "  <thead>\n",
       "    <tr style=\"text-align: right;\">\n",
       "      <th></th>\n",
       "      <th>tweet_id</th>\n",
       "      <th>in_reply_to_status_id</th>\n",
       "      <th>in_reply_to_user_id</th>\n",
       "      <th>timestamp</th>\n",
       "      <th>source</th>\n",
       "      <th>text</th>\n",
       "      <th>retweeted_status_id</th>\n",
       "      <th>retweeted_status_user_id</th>\n",
       "      <th>retweeted_status_timestamp</th>\n",
       "      <th>expanded_urls</th>\n",
       "      <th>rating_numerator</th>\n",
       "      <th>rating_denominator</th>\n",
       "      <th>name</th>\n",
       "      <th>doggo</th>\n",
       "      <th>floofer</th>\n",
       "      <th>pupper</th>\n",
       "      <th>puppo</th>\n",
       "    </tr>\n",
       "  </thead>\n",
       "  <tbody>\n",
       "    <tr>\n",
       "      <th>0</th>\n",
       "      <td>892420643555336193</td>\n",
       "      <td>NaN</td>\n",
       "      <td>NaN</td>\n",
       "      <td>2017-08-01 16:23:56 +0000</td>\n",
       "      <td>&lt;a href=\"http://twitter.com/download/iphone\" r...</td>\n",
       "      <td>This is Phineas. He's a mystical boy. Only eve...</td>\n",
       "      <td>NaN</td>\n",
       "      <td>NaN</td>\n",
       "      <td>NaN</td>\n",
       "      <td>https://twitter.com/dog_rates/status/892420643...</td>\n",
       "      <td>13</td>\n",
       "      <td>10</td>\n",
       "      <td>Phineas</td>\n",
       "      <td>None</td>\n",
       "      <td>None</td>\n",
       "      <td>None</td>\n",
       "      <td>None</td>\n",
       "    </tr>\n",
       "    <tr>\n",
       "      <th>1</th>\n",
       "      <td>892177421306343426</td>\n",
       "      <td>NaN</td>\n",
       "      <td>NaN</td>\n",
       "      <td>2017-08-01 00:17:27 +0000</td>\n",
       "      <td>&lt;a href=\"http://twitter.com/download/iphone\" r...</td>\n",
       "      <td>This is Tilly. She's just checking pup on you....</td>\n",
       "      <td>NaN</td>\n",
       "      <td>NaN</td>\n",
       "      <td>NaN</td>\n",
       "      <td>https://twitter.com/dog_rates/status/892177421...</td>\n",
       "      <td>13</td>\n",
       "      <td>10</td>\n",
       "      <td>Tilly</td>\n",
       "      <td>None</td>\n",
       "      <td>None</td>\n",
       "      <td>None</td>\n",
       "      <td>None</td>\n",
       "    </tr>\n",
       "    <tr>\n",
       "      <th>2</th>\n",
       "      <td>891815181378084864</td>\n",
       "      <td>NaN</td>\n",
       "      <td>NaN</td>\n",
       "      <td>2017-07-31 00:18:03 +0000</td>\n",
       "      <td>&lt;a href=\"http://twitter.com/download/iphone\" r...</td>\n",
       "      <td>This is Archie. He is a rare Norwegian Pouncin...</td>\n",
       "      <td>NaN</td>\n",
       "      <td>NaN</td>\n",
       "      <td>NaN</td>\n",
       "      <td>https://twitter.com/dog_rates/status/891815181...</td>\n",
       "      <td>12</td>\n",
       "      <td>10</td>\n",
       "      <td>Archie</td>\n",
       "      <td>None</td>\n",
       "      <td>None</td>\n",
       "      <td>None</td>\n",
       "      <td>None</td>\n",
       "    </tr>\n",
       "    <tr>\n",
       "      <th>3</th>\n",
       "      <td>891689557279858688</td>\n",
       "      <td>NaN</td>\n",
       "      <td>NaN</td>\n",
       "      <td>2017-07-30 15:58:51 +0000</td>\n",
       "      <td>&lt;a href=\"http://twitter.com/download/iphone\" r...</td>\n",
       "      <td>This is Darla. She commenced a snooze mid meal...</td>\n",
       "      <td>NaN</td>\n",
       "      <td>NaN</td>\n",
       "      <td>NaN</td>\n",
       "      <td>https://twitter.com/dog_rates/status/891689557...</td>\n",
       "      <td>13</td>\n",
       "      <td>10</td>\n",
       "      <td>Darla</td>\n",
       "      <td>None</td>\n",
       "      <td>None</td>\n",
       "      <td>None</td>\n",
       "      <td>None</td>\n",
       "    </tr>\n",
       "    <tr>\n",
       "      <th>4</th>\n",
       "      <td>891327558926688256</td>\n",
       "      <td>NaN</td>\n",
       "      <td>NaN</td>\n",
       "      <td>2017-07-29 16:00:24 +0000</td>\n",
       "      <td>&lt;a href=\"http://twitter.com/download/iphone\" r...</td>\n",
       "      <td>This is Franklin. He would like you to stop ca...</td>\n",
       "      <td>NaN</td>\n",
       "      <td>NaN</td>\n",
       "      <td>NaN</td>\n",
       "      <td>https://twitter.com/dog_rates/status/891327558...</td>\n",
       "      <td>12</td>\n",
       "      <td>10</td>\n",
       "      <td>Franklin</td>\n",
       "      <td>None</td>\n",
       "      <td>None</td>\n",
       "      <td>None</td>\n",
       "      <td>None</td>\n",
       "    </tr>\n",
       "  </tbody>\n",
       "</table>\n",
       "</div>"
      ],
      "text/plain": [
       "             tweet_id  in_reply_to_status_id  in_reply_to_user_id  \\\n",
       "0  892420643555336193                    NaN                  NaN   \n",
       "1  892177421306343426                    NaN                  NaN   \n",
       "2  891815181378084864                    NaN                  NaN   \n",
       "3  891689557279858688                    NaN                  NaN   \n",
       "4  891327558926688256                    NaN                  NaN   \n",
       "\n",
       "                   timestamp  \\\n",
       "0  2017-08-01 16:23:56 +0000   \n",
       "1  2017-08-01 00:17:27 +0000   \n",
       "2  2017-07-31 00:18:03 +0000   \n",
       "3  2017-07-30 15:58:51 +0000   \n",
       "4  2017-07-29 16:00:24 +0000   \n",
       "\n",
       "                                              source  \\\n",
       "0  <a href=\"http://twitter.com/download/iphone\" r...   \n",
       "1  <a href=\"http://twitter.com/download/iphone\" r...   \n",
       "2  <a href=\"http://twitter.com/download/iphone\" r...   \n",
       "3  <a href=\"http://twitter.com/download/iphone\" r...   \n",
       "4  <a href=\"http://twitter.com/download/iphone\" r...   \n",
       "\n",
       "                                                text  retweeted_status_id  \\\n",
       "0  This is Phineas. He's a mystical boy. Only eve...                  NaN   \n",
       "1  This is Tilly. She's just checking pup on you....                  NaN   \n",
       "2  This is Archie. He is a rare Norwegian Pouncin...                  NaN   \n",
       "3  This is Darla. She commenced a snooze mid meal...                  NaN   \n",
       "4  This is Franklin. He would like you to stop ca...                  NaN   \n",
       "\n",
       "   retweeted_status_user_id retweeted_status_timestamp  \\\n",
       "0                       NaN                        NaN   \n",
       "1                       NaN                        NaN   \n",
       "2                       NaN                        NaN   \n",
       "3                       NaN                        NaN   \n",
       "4                       NaN                        NaN   \n",
       "\n",
       "                                       expanded_urls  rating_numerator  \\\n",
       "0  https://twitter.com/dog_rates/status/892420643...                13   \n",
       "1  https://twitter.com/dog_rates/status/892177421...                13   \n",
       "2  https://twitter.com/dog_rates/status/891815181...                12   \n",
       "3  https://twitter.com/dog_rates/status/891689557...                13   \n",
       "4  https://twitter.com/dog_rates/status/891327558...                12   \n",
       "\n",
       "   rating_denominator      name doggo floofer pupper puppo  \n",
       "0                  10   Phineas  None    None   None  None  \n",
       "1                  10     Tilly  None    None   None  None  \n",
       "2                  10    Archie  None    None   None  None  \n",
       "3                  10     Darla  None    None   None  None  \n",
       "4                  10  Franklin  None    None   None  None  "
      ]
     },
     "execution_count": 793,
     "metadata": {},
     "output_type": "execute_result"
    }
   ],
   "source": [
    "df_archive.head(5)"
   ]
  },
  {
   "cell_type": "code",
   "execution_count": 794,
   "metadata": {},
   "outputs": [
    {
     "data": {
      "text/html": [
       "<div>\n",
       "<style scoped>\n",
       "    .dataframe tbody tr th:only-of-type {\n",
       "        vertical-align: middle;\n",
       "    }\n",
       "\n",
       "    .dataframe tbody tr th {\n",
       "        vertical-align: top;\n",
       "    }\n",
       "\n",
       "    .dataframe thead th {\n",
       "        text-align: right;\n",
       "    }\n",
       "</style>\n",
       "<table border=\"1\" class=\"dataframe\">\n",
       "  <thead>\n",
       "    <tr style=\"text-align: right;\">\n",
       "      <th></th>\n",
       "      <th>tweet_id</th>\n",
       "      <th>in_reply_to_status_id</th>\n",
       "      <th>in_reply_to_user_id</th>\n",
       "      <th>retweeted_status_id</th>\n",
       "      <th>retweeted_status_user_id</th>\n",
       "      <th>rating_numerator</th>\n",
       "      <th>rating_denominator</th>\n",
       "    </tr>\n",
       "  </thead>\n",
       "  <tbody>\n",
       "    <tr>\n",
       "      <th>count</th>\n",
       "      <td>2.356000e+03</td>\n",
       "      <td>7.800000e+01</td>\n",
       "      <td>7.800000e+01</td>\n",
       "      <td>1.810000e+02</td>\n",
       "      <td>1.810000e+02</td>\n",
       "      <td>2356.000000</td>\n",
       "      <td>2356.000000</td>\n",
       "    </tr>\n",
       "    <tr>\n",
       "      <th>mean</th>\n",
       "      <td>7.427716e+17</td>\n",
       "      <td>7.455079e+17</td>\n",
       "      <td>2.014171e+16</td>\n",
       "      <td>7.720400e+17</td>\n",
       "      <td>1.241698e+16</td>\n",
       "      <td>13.126486</td>\n",
       "      <td>10.455433</td>\n",
       "    </tr>\n",
       "    <tr>\n",
       "      <th>std</th>\n",
       "      <td>6.856705e+16</td>\n",
       "      <td>7.582492e+16</td>\n",
       "      <td>1.252797e+17</td>\n",
       "      <td>6.236928e+16</td>\n",
       "      <td>9.599254e+16</td>\n",
       "      <td>45.876648</td>\n",
       "      <td>6.745237</td>\n",
       "    </tr>\n",
       "    <tr>\n",
       "      <th>min</th>\n",
       "      <td>6.660209e+17</td>\n",
       "      <td>6.658147e+17</td>\n",
       "      <td>1.185634e+07</td>\n",
       "      <td>6.661041e+17</td>\n",
       "      <td>7.832140e+05</td>\n",
       "      <td>0.000000</td>\n",
       "      <td>0.000000</td>\n",
       "    </tr>\n",
       "    <tr>\n",
       "      <th>25%</th>\n",
       "      <td>6.783989e+17</td>\n",
       "      <td>6.757419e+17</td>\n",
       "      <td>3.086374e+08</td>\n",
       "      <td>7.186315e+17</td>\n",
       "      <td>4.196984e+09</td>\n",
       "      <td>10.000000</td>\n",
       "      <td>10.000000</td>\n",
       "    </tr>\n",
       "    <tr>\n",
       "      <th>50%</th>\n",
       "      <td>7.196279e+17</td>\n",
       "      <td>7.038708e+17</td>\n",
       "      <td>4.196984e+09</td>\n",
       "      <td>7.804657e+17</td>\n",
       "      <td>4.196984e+09</td>\n",
       "      <td>11.000000</td>\n",
       "      <td>10.000000</td>\n",
       "    </tr>\n",
       "    <tr>\n",
       "      <th>75%</th>\n",
       "      <td>7.993373e+17</td>\n",
       "      <td>8.257804e+17</td>\n",
       "      <td>4.196984e+09</td>\n",
       "      <td>8.203146e+17</td>\n",
       "      <td>4.196984e+09</td>\n",
       "      <td>12.000000</td>\n",
       "      <td>10.000000</td>\n",
       "    </tr>\n",
       "    <tr>\n",
       "      <th>max</th>\n",
       "      <td>8.924206e+17</td>\n",
       "      <td>8.862664e+17</td>\n",
       "      <td>8.405479e+17</td>\n",
       "      <td>8.874740e+17</td>\n",
       "      <td>7.874618e+17</td>\n",
       "      <td>1776.000000</td>\n",
       "      <td>170.000000</td>\n",
       "    </tr>\n",
       "  </tbody>\n",
       "</table>\n",
       "</div>"
      ],
      "text/plain": [
       "           tweet_id  in_reply_to_status_id  in_reply_to_user_id  \\\n",
       "count  2.356000e+03           7.800000e+01         7.800000e+01   \n",
       "mean   7.427716e+17           7.455079e+17         2.014171e+16   \n",
       "std    6.856705e+16           7.582492e+16         1.252797e+17   \n",
       "min    6.660209e+17           6.658147e+17         1.185634e+07   \n",
       "25%    6.783989e+17           6.757419e+17         3.086374e+08   \n",
       "50%    7.196279e+17           7.038708e+17         4.196984e+09   \n",
       "75%    7.993373e+17           8.257804e+17         4.196984e+09   \n",
       "max    8.924206e+17           8.862664e+17         8.405479e+17   \n",
       "\n",
       "       retweeted_status_id  retweeted_status_user_id  rating_numerator  \\\n",
       "count         1.810000e+02              1.810000e+02       2356.000000   \n",
       "mean          7.720400e+17              1.241698e+16         13.126486   \n",
       "std           6.236928e+16              9.599254e+16         45.876648   \n",
       "min           6.661041e+17              7.832140e+05          0.000000   \n",
       "25%           7.186315e+17              4.196984e+09         10.000000   \n",
       "50%           7.804657e+17              4.196984e+09         11.000000   \n",
       "75%           8.203146e+17              4.196984e+09         12.000000   \n",
       "max           8.874740e+17              7.874618e+17       1776.000000   \n",
       "\n",
       "       rating_denominator  \n",
       "count         2356.000000  \n",
       "mean            10.455433  \n",
       "std              6.745237  \n",
       "min              0.000000  \n",
       "25%             10.000000  \n",
       "50%             10.000000  \n",
       "75%             10.000000  \n",
       "max            170.000000  "
      ]
     },
     "execution_count": 794,
     "metadata": {},
     "output_type": "execute_result"
    }
   ],
   "source": [
    "df_archive.describe()"
   ]
  },
  {
   "cell_type": "markdown",
   "metadata": {},
   "source": [
    "2. Use the Requests library to download the tweet image prediction (image_predictions.tsv)"
   ]
  },
  {
   "cell_type": "code",
   "execution_count": 795,
   "metadata": {},
   "outputs": [],
   "source": [
    "url = \"https://d17h27t6h515a5.cloudfront.net/topher/2017/August/599fd2ad_image-predictions/image-predictions.tsv\"\n",
    "response = requests.get(url)\n",
    "with open(\"data.set.tsv\", mode='wb') as file:\n",
    "    file.write(response.content)\n",
    "\n",
    "second_file= pd.read_csv(\"data.set.tsv\", sep='\\t')"
   ]
  },
  {
   "cell_type": "code",
   "execution_count": 796,
   "metadata": {},
   "outputs": [
    {
     "data": {
      "text/html": [
       "<div>\n",
       "<style scoped>\n",
       "    .dataframe tbody tr th:only-of-type {\n",
       "        vertical-align: middle;\n",
       "    }\n",
       "\n",
       "    .dataframe tbody tr th {\n",
       "        vertical-align: top;\n",
       "    }\n",
       "\n",
       "    .dataframe thead th {\n",
       "        text-align: right;\n",
       "    }\n",
       "</style>\n",
       "<table border=\"1\" class=\"dataframe\">\n",
       "  <thead>\n",
       "    <tr style=\"text-align: right;\">\n",
       "      <th></th>\n",
       "      <th>tweet_id</th>\n",
       "      <th>jpg_url</th>\n",
       "      <th>img_num</th>\n",
       "      <th>p1</th>\n",
       "      <th>p1_conf</th>\n",
       "      <th>p1_dog</th>\n",
       "      <th>p2</th>\n",
       "      <th>p2_conf</th>\n",
       "      <th>p2_dog</th>\n",
       "      <th>p3</th>\n",
       "      <th>p3_conf</th>\n",
       "      <th>p3_dog</th>\n",
       "    </tr>\n",
       "  </thead>\n",
       "  <tbody>\n",
       "    <tr>\n",
       "      <th>33</th>\n",
       "      <td>666430724426358785</td>\n",
       "      <td>https://pbs.twimg.com/media/CT-jNYqW4AAPi2M.jpg</td>\n",
       "      <td>1</td>\n",
       "      <td>llama</td>\n",
       "      <td>0.505184</td>\n",
       "      <td>False</td>\n",
       "      <td>Irish_terrier</td>\n",
       "      <td>0.104109</td>\n",
       "      <td>True</td>\n",
       "      <td>dingo</td>\n",
       "      <td>0.062071</td>\n",
       "      <td>False</td>\n",
       "    </tr>\n",
       "    <tr>\n",
       "      <th>603</th>\n",
       "      <td>679844490799091713</td>\n",
       "      <td>https://pbs.twimg.com/media/CW9K9VeVAAE0j-x.jpg</td>\n",
       "      <td>1</td>\n",
       "      <td>Airedale</td>\n",
       "      <td>0.903832</td>\n",
       "      <td>True</td>\n",
       "      <td>Border_terrier</td>\n",
       "      <td>0.034713</td>\n",
       "      <td>True</td>\n",
       "      <td>toy_poodle</td>\n",
       "      <td>0.021378</td>\n",
       "      <td>True</td>\n",
       "    </tr>\n",
       "    <tr>\n",
       "      <th>1587</th>\n",
       "      <td>798209839306514432</td>\n",
       "      <td>https://pbs.twimg.com/media/CxPPnCYWIAAo_ao.jpg</td>\n",
       "      <td>1</td>\n",
       "      <td>Pekinese</td>\n",
       "      <td>0.524583</td>\n",
       "      <td>True</td>\n",
       "      <td>Shih-Tzu</td>\n",
       "      <td>0.102931</td>\n",
       "      <td>True</td>\n",
       "      <td>Pomeranian</td>\n",
       "      <td>0.097893</td>\n",
       "      <td>True</td>\n",
       "    </tr>\n",
       "    <tr>\n",
       "      <th>898</th>\n",
       "      <td>699779630832685056</td>\n",
       "      <td>https://pbs.twimg.com/media/CbYd3C9WEAErJ4Z.jpg</td>\n",
       "      <td>1</td>\n",
       "      <td>malinois</td>\n",
       "      <td>0.706038</td>\n",
       "      <td>True</td>\n",
       "      <td>German_shepherd</td>\n",
       "      <td>0.165655</td>\n",
       "      <td>True</td>\n",
       "      <td>Great_Dane</td>\n",
       "      <td>0.059048</td>\n",
       "      <td>True</td>\n",
       "    </tr>\n",
       "    <tr>\n",
       "      <th>698</th>\n",
       "      <td>684567543613382656</td>\n",
       "      <td>https://pbs.twimg.com/media/CYASi6FWQAEQMW2.jpg</td>\n",
       "      <td>1</td>\n",
       "      <td>minibus</td>\n",
       "      <td>0.401942</td>\n",
       "      <td>False</td>\n",
       "      <td>llama</td>\n",
       "      <td>0.229145</td>\n",
       "      <td>False</td>\n",
       "      <td>seat_belt</td>\n",
       "      <td>0.209393</td>\n",
       "      <td>False</td>\n",
       "    </tr>\n",
       "  </tbody>\n",
       "</table>\n",
       "</div>"
      ],
      "text/plain": [
       "                tweet_id                                          jpg_url  \\\n",
       "33    666430724426358785  https://pbs.twimg.com/media/CT-jNYqW4AAPi2M.jpg   \n",
       "603   679844490799091713  https://pbs.twimg.com/media/CW9K9VeVAAE0j-x.jpg   \n",
       "1587  798209839306514432  https://pbs.twimg.com/media/CxPPnCYWIAAo_ao.jpg   \n",
       "898   699779630832685056  https://pbs.twimg.com/media/CbYd3C9WEAErJ4Z.jpg   \n",
       "698   684567543613382656  https://pbs.twimg.com/media/CYASi6FWQAEQMW2.jpg   \n",
       "\n",
       "      img_num        p1   p1_conf  p1_dog               p2   p2_conf  p2_dog  \\\n",
       "33          1     llama  0.505184   False    Irish_terrier  0.104109    True   \n",
       "603         1  Airedale  0.903832    True   Border_terrier  0.034713    True   \n",
       "1587        1  Pekinese  0.524583    True         Shih-Tzu  0.102931    True   \n",
       "898         1  malinois  0.706038    True  German_shepherd  0.165655    True   \n",
       "698         1   minibus  0.401942   False            llama  0.229145   False   \n",
       "\n",
       "              p3   p3_conf  p3_dog  \n",
       "33         dingo  0.062071   False  \n",
       "603   toy_poodle  0.021378    True  \n",
       "1587  Pomeranian  0.097893    True  \n",
       "898   Great_Dane  0.059048    True  \n",
       "698    seat_belt  0.209393   False  "
      ]
     },
     "execution_count": 796,
     "metadata": {},
     "output_type": "execute_result"
    }
   ],
   "source": [
    "second_file.sample(5)"
   ]
  },
  {
   "cell_type": "code",
   "execution_count": 797,
   "metadata": {},
   "outputs": [
    {
     "name": "stdout",
     "output_type": "stream",
     "text": [
      "<class 'pandas.core.frame.DataFrame'>\n",
      "RangeIndex: 2075 entries, 0 to 2074\n",
      "Data columns (total 12 columns):\n",
      " #   Column    Non-Null Count  Dtype  \n",
      "---  ------    --------------  -----  \n",
      " 0   tweet_id  2075 non-null   int64  \n",
      " 1   jpg_url   2075 non-null   object \n",
      " 2   img_num   2075 non-null   int64  \n",
      " 3   p1        2075 non-null   object \n",
      " 4   p1_conf   2075 non-null   float64\n",
      " 5   p1_dog    2075 non-null   bool   \n",
      " 6   p2        2075 non-null   object \n",
      " 7   p2_conf   2075 non-null   float64\n",
      " 8   p2_dog    2075 non-null   bool   \n",
      " 9   p3        2075 non-null   object \n",
      " 10  p3_conf   2075 non-null   float64\n",
      " 11  p3_dog    2075 non-null   bool   \n",
      "dtypes: bool(3), float64(3), int64(2), object(4)\n",
      "memory usage: 152.1+ KB\n"
     ]
    }
   ],
   "source": [
    "second_file.info()"
   ]
  },
  {
   "cell_type": "code",
   "execution_count": 798,
   "metadata": {},
   "outputs": [
    {
     "data": {
      "text/html": [
       "<div>\n",
       "<style scoped>\n",
       "    .dataframe tbody tr th:only-of-type {\n",
       "        vertical-align: middle;\n",
       "    }\n",
       "\n",
       "    .dataframe tbody tr th {\n",
       "        vertical-align: top;\n",
       "    }\n",
       "\n",
       "    .dataframe thead th {\n",
       "        text-align: right;\n",
       "    }\n",
       "</style>\n",
       "<table border=\"1\" class=\"dataframe\">\n",
       "  <thead>\n",
       "    <tr style=\"text-align: right;\">\n",
       "      <th></th>\n",
       "      <th>tweet_id</th>\n",
       "      <th>img_num</th>\n",
       "      <th>p1_conf</th>\n",
       "      <th>p2_conf</th>\n",
       "      <th>p3_conf</th>\n",
       "    </tr>\n",
       "  </thead>\n",
       "  <tbody>\n",
       "    <tr>\n",
       "      <th>count</th>\n",
       "      <td>2.075000e+03</td>\n",
       "      <td>2075.000000</td>\n",
       "      <td>2075.000000</td>\n",
       "      <td>2.075000e+03</td>\n",
       "      <td>2.075000e+03</td>\n",
       "    </tr>\n",
       "    <tr>\n",
       "      <th>mean</th>\n",
       "      <td>7.384514e+17</td>\n",
       "      <td>1.203855</td>\n",
       "      <td>0.594548</td>\n",
       "      <td>1.345886e-01</td>\n",
       "      <td>6.032417e-02</td>\n",
       "    </tr>\n",
       "    <tr>\n",
       "      <th>std</th>\n",
       "      <td>6.785203e+16</td>\n",
       "      <td>0.561875</td>\n",
       "      <td>0.271174</td>\n",
       "      <td>1.006657e-01</td>\n",
       "      <td>5.090593e-02</td>\n",
       "    </tr>\n",
       "    <tr>\n",
       "      <th>min</th>\n",
       "      <td>6.660209e+17</td>\n",
       "      <td>1.000000</td>\n",
       "      <td>0.044333</td>\n",
       "      <td>1.011300e-08</td>\n",
       "      <td>1.740170e-10</td>\n",
       "    </tr>\n",
       "    <tr>\n",
       "      <th>25%</th>\n",
       "      <td>6.764835e+17</td>\n",
       "      <td>1.000000</td>\n",
       "      <td>0.364412</td>\n",
       "      <td>5.388625e-02</td>\n",
       "      <td>1.622240e-02</td>\n",
       "    </tr>\n",
       "    <tr>\n",
       "      <th>50%</th>\n",
       "      <td>7.119988e+17</td>\n",
       "      <td>1.000000</td>\n",
       "      <td>0.588230</td>\n",
       "      <td>1.181810e-01</td>\n",
       "      <td>4.944380e-02</td>\n",
       "    </tr>\n",
       "    <tr>\n",
       "      <th>75%</th>\n",
       "      <td>7.932034e+17</td>\n",
       "      <td>1.000000</td>\n",
       "      <td>0.843855</td>\n",
       "      <td>1.955655e-01</td>\n",
       "      <td>9.180755e-02</td>\n",
       "    </tr>\n",
       "    <tr>\n",
       "      <th>max</th>\n",
       "      <td>8.924206e+17</td>\n",
       "      <td>4.000000</td>\n",
       "      <td>1.000000</td>\n",
       "      <td>4.880140e-01</td>\n",
       "      <td>2.734190e-01</td>\n",
       "    </tr>\n",
       "  </tbody>\n",
       "</table>\n",
       "</div>"
      ],
      "text/plain": [
       "           tweet_id      img_num      p1_conf       p2_conf       p3_conf\n",
       "count  2.075000e+03  2075.000000  2075.000000  2.075000e+03  2.075000e+03\n",
       "mean   7.384514e+17     1.203855     0.594548  1.345886e-01  6.032417e-02\n",
       "std    6.785203e+16     0.561875     0.271174  1.006657e-01  5.090593e-02\n",
       "min    6.660209e+17     1.000000     0.044333  1.011300e-08  1.740170e-10\n",
       "25%    6.764835e+17     1.000000     0.364412  5.388625e-02  1.622240e-02\n",
       "50%    7.119988e+17     1.000000     0.588230  1.181810e-01  4.944380e-02\n",
       "75%    7.932034e+17     1.000000     0.843855  1.955655e-01  9.180755e-02\n",
       "max    8.924206e+17     4.000000     1.000000  4.880140e-01  2.734190e-01"
      ]
     },
     "execution_count": 798,
     "metadata": {},
     "output_type": "execute_result"
    }
   ],
   "source": [
    "second_file.describe()"
   ]
  },
  {
   "cell_type": "code",
   "execution_count": 799,
   "metadata": {},
   "outputs": [
    {
     "data": {
      "text/plain": [
       "golden_retriever      150\n",
       "Labrador_retriever    100\n",
       "Pembroke               89\n",
       "Chihuahua              83\n",
       "pug                    57\n",
       "                     ... \n",
       "pillow                  1\n",
       "carousel                1\n",
       "bald_eagle              1\n",
       "lorikeet                1\n",
       "orange                  1\n",
       "Name: p1, Length: 378, dtype: int64"
      ]
     },
     "execution_count": 799,
     "metadata": {},
     "output_type": "execute_result"
    }
   ],
   "source": [
    "second_file[\"p1\"].value_counts()"
   ]
  },
  {
   "cell_type": "markdown",
   "metadata": {},
   "source": [
    "3. Use the Tweepy library to query additional data via the Twitter API (tweet_json.txt)"
   ]
  },
  {
   "cell_type": "raw",
   "metadata": {},
   "source": [
    "import tweepy\n",
    "from tweepy import OAuthHandler\n",
    "import json\n",
    "from timeit import default_timer as timer\n",
    "\n",
    "consumer_key = 'HIDDEN'\n",
    "consumer_secret = 'HIDDEN'\n",
    "auth = tweepy.AppAuthHandler(consumer_key, consumer_secret)\n",
    "api = tweepy.API(auth, wait_on_rate_limit=True)"
   ]
  },
  {
   "cell_type": "code",
   "execution_count": 800,
   "metadata": {},
   "outputs": [
    {
     "data": {
      "text/plain": [
       "2356"
      ]
     },
     "execution_count": 800,
     "metadata": {},
     "output_type": "execute_result"
    }
   ],
   "source": [
    "tweet_ids = df_archive.tweet_id.values\n",
    "len(tweet_ids)"
   ]
  },
  {
   "cell_type": "raw",
   "metadata": {},
   "source": [
    "%%time\n",
    "\n",
    "import json\n",
    "\n",
    "count = 0\n",
    "fails_dict = {}\n",
    "\n",
    "with open('tweet_json.txt', 'w') as outfile:\n",
    "    for tweet_id in tweet_ids:\n",
    "        count += 1\n",
    "        print(str(count) + \": \" + str(tweet_id))\n",
    "        try:\n",
    "            tweet = api.get_status(tweet_id, tweet_mode='extended')\n",
    "            json.dump(tweet._json, outfile)\n",
    "            print(\"Success\")\n",
    "            outfile.write('\\n')\n",
    "        except Exception as e:\n",
    "            print(\"Fail\")\n",
    "            fails_dict[tweet_id] = e\n",
    "        \n",
    "\n",
    "print(fails_dict)"
   ]
  },
  {
   "cell_type": "code",
   "execution_count": 801,
   "metadata": {},
   "outputs": [],
   "source": [
    "tweet_file=pd.read_json('tweet_json.txt',lines=True)"
   ]
  },
  {
   "cell_type": "code",
   "execution_count": 802,
   "metadata": {},
   "outputs": [],
   "source": [
    "tweet_last=tweet_file[[\"id\",\"retweet_count\",\"favorite_count\"]]"
   ]
  },
  {
   "cell_type": "code",
   "execution_count": 803,
   "metadata": {},
   "outputs": [
    {
     "name": "stdout",
     "output_type": "stream",
     "text": [
      "<class 'pandas.core.frame.DataFrame'>\n",
      "RangeIndex: 2323 entries, 0 to 2322\n",
      "Data columns (total 3 columns):\n",
      " #   Column          Non-Null Count  Dtype\n",
      "---  ------          --------------  -----\n",
      " 0   id              2323 non-null   int64\n",
      " 1   retweet_count   2323 non-null   int64\n",
      " 2   favorite_count  2323 non-null   int64\n",
      "dtypes: int64(3)\n",
      "memory usage: 54.6 KB\n"
     ]
    }
   ],
   "source": [
    "tweet_last.info()"
   ]
  },
  {
   "cell_type": "code",
   "execution_count": 804,
   "metadata": {},
   "outputs": [
    {
     "data": {
      "text/html": [
       "<div>\n",
       "<style scoped>\n",
       "    .dataframe tbody tr th:only-of-type {\n",
       "        vertical-align: middle;\n",
       "    }\n",
       "\n",
       "    .dataframe tbody tr th {\n",
       "        vertical-align: top;\n",
       "    }\n",
       "\n",
       "    .dataframe thead th {\n",
       "        text-align: right;\n",
       "    }\n",
       "</style>\n",
       "<table border=\"1\" class=\"dataframe\">\n",
       "  <thead>\n",
       "    <tr style=\"text-align: right;\">\n",
       "      <th></th>\n",
       "      <th>id</th>\n",
       "      <th>retweet_count</th>\n",
       "      <th>favorite_count</th>\n",
       "    </tr>\n",
       "  </thead>\n",
       "  <tbody>\n",
       "    <tr>\n",
       "      <th>2318</th>\n",
       "      <td>666049248165822465</td>\n",
       "      <td>36</td>\n",
       "      <td>86</td>\n",
       "    </tr>\n",
       "    <tr>\n",
       "      <th>2319</th>\n",
       "      <td>666044226329800704</td>\n",
       "      <td>113</td>\n",
       "      <td>244</td>\n",
       "    </tr>\n",
       "    <tr>\n",
       "      <th>2320</th>\n",
       "      <td>666033412701032449</td>\n",
       "      <td>35</td>\n",
       "      <td>98</td>\n",
       "    </tr>\n",
       "    <tr>\n",
       "      <th>2321</th>\n",
       "      <td>666029285002620928</td>\n",
       "      <td>39</td>\n",
       "      <td>111</td>\n",
       "    </tr>\n",
       "    <tr>\n",
       "      <th>2322</th>\n",
       "      <td>666020888022790149</td>\n",
       "      <td>416</td>\n",
       "      <td>2233</td>\n",
       "    </tr>\n",
       "  </tbody>\n",
       "</table>\n",
       "</div>"
      ],
      "text/plain": [
       "                      id  retweet_count  favorite_count\n",
       "2318  666049248165822465             36              86\n",
       "2319  666044226329800704            113             244\n",
       "2320  666033412701032449             35              98\n",
       "2321  666029285002620928             39             111\n",
       "2322  666020888022790149            416            2233"
      ]
     },
     "execution_count": 804,
     "metadata": {},
     "output_type": "execute_result"
    }
   ],
   "source": [
    "tweet_last.tail()"
   ]
  },
  {
   "cell_type": "code",
   "execution_count": 805,
   "metadata": {},
   "outputs": [
    {
     "data": {
      "text/html": [
       "<div>\n",
       "<style scoped>\n",
       "    .dataframe tbody tr th:only-of-type {\n",
       "        vertical-align: middle;\n",
       "    }\n",
       "\n",
       "    .dataframe tbody tr th {\n",
       "        vertical-align: top;\n",
       "    }\n",
       "\n",
       "    .dataframe thead th {\n",
       "        text-align: right;\n",
       "    }\n",
       "</style>\n",
       "<table border=\"1\" class=\"dataframe\">\n",
       "  <thead>\n",
       "    <tr style=\"text-align: right;\">\n",
       "      <th></th>\n",
       "      <th>id</th>\n",
       "      <th>retweet_count</th>\n",
       "      <th>favorite_count</th>\n",
       "    </tr>\n",
       "  </thead>\n",
       "  <tbody>\n",
       "    <tr>\n",
       "      <th>count</th>\n",
       "      <td>2.323000e+03</td>\n",
       "      <td>2323.000000</td>\n",
       "      <td>2323.000000</td>\n",
       "    </tr>\n",
       "    <tr>\n",
       "      <th>mean</th>\n",
       "      <td>7.417066e+17</td>\n",
       "      <td>2430.915626</td>\n",
       "      <td>6883.725786</td>\n",
       "    </tr>\n",
       "    <tr>\n",
       "      <th>std</th>\n",
       "      <td>6.814226e+16</td>\n",
       "      <td>4115.464134</td>\n",
       "      <td>10698.711125</td>\n",
       "    </tr>\n",
       "    <tr>\n",
       "      <th>min</th>\n",
       "      <td>6.660209e+17</td>\n",
       "      <td>0.000000</td>\n",
       "      <td>0.000000</td>\n",
       "    </tr>\n",
       "    <tr>\n",
       "      <th>25%</th>\n",
       "      <td>6.781394e+17</td>\n",
       "      <td>488.000000</td>\n",
       "      <td>1196.000000</td>\n",
       "    </tr>\n",
       "    <tr>\n",
       "      <th>50%</th>\n",
       "      <td>7.177900e+17</td>\n",
       "      <td>1130.000000</td>\n",
       "      <td>2979.000000</td>\n",
       "    </tr>\n",
       "    <tr>\n",
       "      <th>75%</th>\n",
       "      <td>7.986363e+17</td>\n",
       "      <td>2811.500000</td>\n",
       "      <td>8405.000000</td>\n",
       "    </tr>\n",
       "    <tr>\n",
       "      <th>max</th>\n",
       "      <td>8.924206e+17</td>\n",
       "      <td>69523.000000</td>\n",
       "      <td>141952.000000</td>\n",
       "    </tr>\n",
       "  </tbody>\n",
       "</table>\n",
       "</div>"
      ],
      "text/plain": [
       "                 id  retweet_count  favorite_count\n",
       "count  2.323000e+03    2323.000000     2323.000000\n",
       "mean   7.417066e+17    2430.915626     6883.725786\n",
       "std    6.814226e+16    4115.464134    10698.711125\n",
       "min    6.660209e+17       0.000000        0.000000\n",
       "25%    6.781394e+17     488.000000     1196.000000\n",
       "50%    7.177900e+17    1130.000000     2979.000000\n",
       "75%    7.986363e+17    2811.500000     8405.000000\n",
       "max    8.924206e+17   69523.000000   141952.000000"
      ]
     },
     "execution_count": 805,
     "metadata": {},
     "output_type": "execute_result"
    }
   ],
   "source": [
    "tweet_last.describe()"
   ]
  },
  {
   "cell_type": "code",
   "execution_count": 806,
   "metadata": {},
   "outputs": [],
   "source": [
    "tweet_all=df_archive.merge(second_file,on='tweet_id',how=\"left\").merge(tweet_last,left_on='tweet_id',right_on=\"id\",how=\"left\")"
   ]
  },
  {
   "cell_type": "markdown",
   "metadata": {
    "extensions": {
     "jupyter_dashboards": {
      "version": 1,
      "views": {
       "grid_default": {
        "col": 4,
        "height": 4,
        "hidden": false,
        "row": 28,
        "width": 4
       },
       "report_default": {
        "hidden": false
       }
      }
     }
    }
   },
   "source": [
    "## Assessing Data\n",
    "In this section, detect and document at least **eight (8) quality issues and two (2) tidiness issue**. You must use **both** visual assessment\n",
    "programmatic assessement to assess the data.\n",
    "\n",
    "**Note:** pay attention to the following key points when you access the data.\n",
    "\n",
    "* You only want original ratings (no retweets) that have images. Though there are 5000+ tweets in the dataset, not all are dog ratings and some are retweets.\n",
    "* Assessing and cleaning the entire dataset completely would require a lot of time, and is not necessary to practice and demonstrate your skills in data wrangling. Therefore, the requirements of this project are only to assess and clean at least 8 quality issues and at least 2 tidiness issues in this dataset.\n",
    "* The fact that the rating numerators are greater than the denominators does not need to be cleaned. This [unique rating system](http://knowyourmeme.com/memes/theyre-good-dogs-brent) is a big part of the popularity of WeRateDogs.\n",
    "* You do not need to gather the tweets beyond August 1st, 2017. You can, but note that you won't be able to gather the image predictions for these tweets since you don't have access to the algorithm used.\n",
    "\n"
   ]
  },
  {
   "cell_type": "markdown",
   "metadata": {},
   "source": [
    "### Quality issues\n",
    "1.Dog names include non-dog names such as \"a\", \"the\", \"by\". It will be replaced with none.\n",
    "\n",
    "2.\"in_reply_to_status_id\", \"in_reply_to_user_id\", \"retweeted_status_id\",\"retweeted_status_user_id\",\"retweeted_status_timestamp\",'id'.Deleting girths that contain the same lines and that we do not want\n",
    "\n",
    "3.elimination of case mismatch in columns 'p1', 'p2', 'p3'\n",
    "\n",
    "4.'p1','p2','p3','p1_dog','p2_dog','p3_dog'changing the names of columns with undefined names\n",
    "\n",
    "5.convert columns 'retweet_count' and  'favorite_count'to integers  from float and fill the NaN values with '0'\n",
    "\n",
    "6.abnormal numbers in 'rating_denominator' and 'rating_numerator'  columns . I realized that each of these was because there was more than one dog in the photo. and I did them this way\n",
    "\n",
    "7.Since the time column does not appear as time, I have shown it in time format.\n",
    "\n",
    "8.I will extract the information from the source column containing html knowledge."
   ]
  },
  {
   "cell_type": "markdown",
   "metadata": {
    "extensions": {
     "jupyter_dashboards": {
      "version": 1,
      "views": {
       "grid_default": {
        "col": 0,
        "height": 7,
        "hidden": false,
        "row": 40,
        "width": 12
       },
       "report_default": {
        "hidden": false
       }
      }
     }
    }
   },
   "source": [
    "### Tidiness issues\n",
    "1.('doggo', 'floofer', 'pupper', 'puppo' )merging columns containing similar rows into a single column\n",
    "\n",
    "2.'doggo', 'floofer', 'pupper', 'puppo'.Deleting girths that contain the same lines and that we do not want\n",
    "\n",
    "3.Separate the urls in the text and save it in a new column\n",
    "\n",
    "4.Combining 3 seemingly complex tables into one table."
   ]
  },
  {
   "cell_type": "markdown",
   "metadata": {
    "extensions": {
     "jupyter_dashboards": {
      "version": 1,
      "views": {
       "grid_default": {
        "col": 4,
        "height": 4,
        "hidden": false,
        "row": 32,
        "width": 4
       },
       "report_default": {
        "hidden": false
       }
      }
     }
    }
   },
   "source": [
    "## Cleaning Data\n",
    "In this section, clean **all** of the issues you documented while assessing. \n",
    "\n",
    "**Note:** Make a copy of the original data before cleaning. Cleaning includes merging individual pieces of data according to the rules of [tidy data](https://cran.r-project.org/web/packages/tidyr/vignettes/tidy-data.html). The result should be a high-quality and tidy master pandas DataFrame (or DataFrames, if appropriate)."
   ]
  },
  {
   "cell_type": "code",
   "execution_count": 807,
   "metadata": {},
   "outputs": [],
   "source": [
    "# Make copies of original pieces of data\n",
    "df_archivecopy=df_archive.copy()\n",
    "tweet_lastcopy=tweet_last.copy()\n",
    "second_filecopy=second_file.copy()\n",
    "tweet_allcopy=tweet_all.copy()"
   ]
  },
  {
   "cell_type": "markdown",
   "metadata": {},
   "source": [
    "### Issue #1:"
   ]
  },
  {
   "cell_type": "markdown",
   "metadata": {},
   "source": [
    "#### Define :\n",
    "Dog names include non-dog names such as \"a\", \"the\", \"by\".  It will be replaced with none."
   ]
  },
  {
   "cell_type": "markdown",
   "metadata": {},
   "source": [
    "#### Code"
   ]
  },
  {
   "cell_type": "code",
   "execution_count": 808,
   "metadata": {},
   "outputs": [],
   "source": [
    "tweet_all.loc[tweet_all[\"name\"].str.istitle() == False, \"name\"]=\"None\""
   ]
  },
  {
   "cell_type": "markdown",
   "metadata": {},
   "source": [
    "#### Test"
   ]
  },
  {
   "cell_type": "code",
   "execution_count": 809,
   "metadata": {},
   "outputs": [
    {
     "data": {
      "text/plain": [
       "None          860\n",
       "Charlie        12\n",
       "Oliver         11\n",
       "Cooper         11\n",
       "Lucy           11\n",
       "             ... \n",
       "Devón           1\n",
       "Gert            1\n",
       "Dex             1\n",
       "Ace             1\n",
       "Christoper      1\n",
       "Name: name, Length: 927, dtype: int64"
      ]
     },
     "execution_count": 809,
     "metadata": {},
     "output_type": "execute_result"
    }
   ],
   "source": [
    "tweet_all[\"name\"].value_counts()"
   ]
  },
  {
   "cell_type": "markdown",
   "metadata": {},
   "source": [
    "### Issue #2:"
   ]
  },
  {
   "cell_type": "markdown",
   "metadata": {
    "collapsed": true,
    "extensions": {
     "jupyter_dashboards": {
      "version": 1,
      "views": {
       "grid_default": {
        "hidden": true
       },
       "report_default": {
        "hidden": true
       }
      }
     }
    }
   },
   "source": [
    "#### Define :\n",
    "\"in_reply_to_status_id\", \"in_reply_to_user_id\", \"retweeted_status_id\",\"retweeted_status_user_id\",\"retweeted_status_timestamp\",'id'.Deleting girths that contain the same lines and that we do not want"
   ]
  },
  {
   "cell_type": "markdown",
   "metadata": {},
   "source": [
    "#### Code"
   ]
  },
  {
   "cell_type": "code",
   "execution_count": 810,
   "metadata": {},
   "outputs": [],
   "source": [
    "tweet_all = tweet_all[tweet_all.retweeted_status_id.isnull()]\n",
    "tweet_all= tweet_all[tweet_all.retweeted_status_user_id.isnull()]\n",
    "tweet_all = tweet_all[tweet_all.retweeted_status_timestamp.isnull()]"
   ]
  },
  {
   "cell_type": "code",
   "execution_count": 811,
   "metadata": {},
   "outputs": [],
   "source": [
    "tweet_all=tweet_all.drop([\"in_reply_to_status_id\", \"in_reply_to_user_id\", \"retweeted_status_id\",\"retweeted_status_user_id\",\"retweeted_status_timestamp\",\"id\"], axis=1)"
   ]
  },
  {
   "cell_type": "markdown",
   "metadata": {},
   "source": [
    "#### Test"
   ]
  },
  {
   "cell_type": "code",
   "execution_count": 812,
   "metadata": {},
   "outputs": [
    {
     "name": "stdout",
     "output_type": "stream",
     "text": [
      "<class 'pandas.core.frame.DataFrame'>\n",
      "Int64Index: 2175 entries, 0 to 2355\n",
      "Data columns (total 25 columns):\n",
      " #   Column              Non-Null Count  Dtype  \n",
      "---  ------              --------------  -----  \n",
      " 0   tweet_id            2175 non-null   int64  \n",
      " 1   timestamp           2175 non-null   object \n",
      " 2   source              2175 non-null   object \n",
      " 3   text                2175 non-null   object \n",
      " 4   expanded_urls       2117 non-null   object \n",
      " 5   rating_numerator    2175 non-null   int64  \n",
      " 6   rating_denominator  2175 non-null   int64  \n",
      " 7   name                2175 non-null   object \n",
      " 8   doggo               2175 non-null   object \n",
      " 9   floofer             2175 non-null   object \n",
      " 10  pupper              2175 non-null   object \n",
      " 11  puppo               2175 non-null   object \n",
      " 12  jpg_url             1994 non-null   object \n",
      " 13  img_num             1994 non-null   float64\n",
      " 14  p1                  1994 non-null   object \n",
      " 15  p1_conf             1994 non-null   float64\n",
      " 16  p1_dog              1994 non-null   object \n",
      " 17  p2                  1994 non-null   object \n",
      " 18  p2_conf             1994 non-null   float64\n",
      " 19  p2_dog              1994 non-null   object \n",
      " 20  p3                  1994 non-null   object \n",
      " 21  p3_conf             1994 non-null   float64\n",
      " 22  p3_dog              1994 non-null   object \n",
      " 23  retweet_count       2164 non-null   float64\n",
      " 24  favorite_count      2164 non-null   float64\n",
      "dtypes: float64(6), int64(3), object(16)\n",
      "memory usage: 441.8+ KB\n"
     ]
    }
   ],
   "source": [
    "tweet_all.info()"
   ]
  },
  {
   "cell_type": "markdown",
   "metadata": {},
   "source": [
    "### Issue #3:"
   ]
  },
  {
   "cell_type": "markdown",
   "metadata": {
    "collapsed": true,
    "extensions": {
     "jupyter_dashboards": {
      "version": 1,
      "views": {
       "grid_default": {
        "hidden": true
       },
       "report_default": {
        "hidden": true
       }
      }
     }
    }
   },
   "source": [
    "#### Define : \n",
    "elimination of case mismatch in columns 'p1', 'p2', 'p3'\n"
   ]
  },
  {
   "cell_type": "markdown",
   "metadata": {},
   "source": [
    "#### Code"
   ]
  },
  {
   "cell_type": "code",
   "execution_count": 813,
   "metadata": {
    "scrolled": true
   },
   "outputs": [],
   "source": [
    "tweet_all['p1'] = tweet_all['p1'].str.lower()\n",
    "tweet_all['p2'] = tweet_all['p2'].str.lower()\n",
    "tweet_all['p3'] = tweet_all['p3'].str.lower()"
   ]
  },
  {
   "cell_type": "markdown",
   "metadata": {},
   "source": [
    "#### Test"
   ]
  },
  {
   "cell_type": "code",
   "execution_count": 814,
   "metadata": {},
   "outputs": [
    {
     "data": {
      "text/html": [
       "<div>\n",
       "<style scoped>\n",
       "    .dataframe tbody tr th:only-of-type {\n",
       "        vertical-align: middle;\n",
       "    }\n",
       "\n",
       "    .dataframe tbody tr th {\n",
       "        vertical-align: top;\n",
       "    }\n",
       "\n",
       "    .dataframe thead th {\n",
       "        text-align: right;\n",
       "    }\n",
       "</style>\n",
       "<table border=\"1\" class=\"dataframe\">\n",
       "  <thead>\n",
       "    <tr style=\"text-align: right;\">\n",
       "      <th></th>\n",
       "      <th>tweet_id</th>\n",
       "      <th>timestamp</th>\n",
       "      <th>source</th>\n",
       "      <th>text</th>\n",
       "      <th>expanded_urls</th>\n",
       "      <th>rating_numerator</th>\n",
       "      <th>rating_denominator</th>\n",
       "      <th>name</th>\n",
       "      <th>doggo</th>\n",
       "      <th>floofer</th>\n",
       "      <th>...</th>\n",
       "      <th>p1_conf</th>\n",
       "      <th>p1_dog</th>\n",
       "      <th>p2</th>\n",
       "      <th>p2_conf</th>\n",
       "      <th>p2_dog</th>\n",
       "      <th>p3</th>\n",
       "      <th>p3_conf</th>\n",
       "      <th>p3_dog</th>\n",
       "      <th>retweet_count</th>\n",
       "      <th>favorite_count</th>\n",
       "    </tr>\n",
       "  </thead>\n",
       "  <tbody>\n",
       "    <tr>\n",
       "      <th>709</th>\n",
       "      <td>785170936622350336</td>\n",
       "      <td>2016-10-09 17:31:53 +0000</td>\n",
       "      <td>&lt;a href=\"http://twitter.com/download/iphone\" r...</td>\n",
       "      <td>This is Hero. He was enjoying the car ride unt...</td>\n",
       "      <td>https://twitter.com/dog_rates/status/785170936...</td>\n",
       "      <td>11</td>\n",
       "      <td>10</td>\n",
       "      <td>Hero</td>\n",
       "      <td>None</td>\n",
       "      <td>None</td>\n",
       "      <td>...</td>\n",
       "      <td>0.891193</td>\n",
       "      <td>False</td>\n",
       "      <td>eskimo_dog</td>\n",
       "      <td>0.027494</td>\n",
       "      <td>True</td>\n",
       "      <td>samoyed</td>\n",
       "      <td>0.019530</td>\n",
       "      <td>True</td>\n",
       "      <td>4418.0</td>\n",
       "      <td>11100.0</td>\n",
       "    </tr>\n",
       "    <tr>\n",
       "      <th>668</th>\n",
       "      <td>790277117346975746</td>\n",
       "      <td>2016-10-23 19:42:02 +0000</td>\n",
       "      <td>&lt;a href=\"http://twitter.com/download/iphone\" r...</td>\n",
       "      <td>This is Bruce. He never backs down from a chal...</td>\n",
       "      <td>https://twitter.com/dog_rates/status/790277117...</td>\n",
       "      <td>11</td>\n",
       "      <td>10</td>\n",
       "      <td>Bruce</td>\n",
       "      <td>None</td>\n",
       "      <td>None</td>\n",
       "      <td>...</td>\n",
       "      <td>0.427742</td>\n",
       "      <td>True</td>\n",
       "      <td>great_dane</td>\n",
       "      <td>0.190503</td>\n",
       "      <td>True</td>\n",
       "      <td>curly-coated_retriever</td>\n",
       "      <td>0.146427</td>\n",
       "      <td>True</td>\n",
       "      <td>2916.0</td>\n",
       "      <td>11582.0</td>\n",
       "    </tr>\n",
       "    <tr>\n",
       "      <th>1145</th>\n",
       "      <td>727175381690781696</td>\n",
       "      <td>2016-05-02 16:38:15 +0000</td>\n",
       "      <td>&lt;a href=\"http://twitter.com/download/iphone\" r...</td>\n",
       "      <td>This is Karll. He just wants to go kayaking. 1...</td>\n",
       "      <td>https://twitter.com/dog_rates/status/727175381...</td>\n",
       "      <td>10</td>\n",
       "      <td>10</td>\n",
       "      <td>Karll</td>\n",
       "      <td>None</td>\n",
       "      <td>None</td>\n",
       "      <td>...</td>\n",
       "      <td>0.656463</td>\n",
       "      <td>True</td>\n",
       "      <td>great_dane</td>\n",
       "      <td>0.084766</td>\n",
       "      <td>True</td>\n",
       "      <td>labrador_retriever</td>\n",
       "      <td>0.058909</td>\n",
       "      <td>True</td>\n",
       "      <td>1223.0</td>\n",
       "      <td>3512.0</td>\n",
       "    </tr>\n",
       "    <tr>\n",
       "      <th>2215</th>\n",
       "      <td>668542336805281792</td>\n",
       "      <td>2015-11-22 21:31:28 +0000</td>\n",
       "      <td>&lt;a href=\"http://twitter.com/download/iphone\" r...</td>\n",
       "      <td>There's a lot going on here but in my honest o...</td>\n",
       "      <td>https://twitter.com/dog_rates/status/668542336...</td>\n",
       "      <td>10</td>\n",
       "      <td>10</td>\n",
       "      <td>None</td>\n",
       "      <td>None</td>\n",
       "      <td>None</td>\n",
       "      <td>...</td>\n",
       "      <td>0.267695</td>\n",
       "      <td>True</td>\n",
       "      <td>french_bulldog</td>\n",
       "      <td>0.254050</td>\n",
       "      <td>True</td>\n",
       "      <td>staffordshire_bullterrier</td>\n",
       "      <td>0.212381</td>\n",
       "      <td>True</td>\n",
       "      <td>178.0</td>\n",
       "      <td>388.0</td>\n",
       "    </tr>\n",
       "    <tr>\n",
       "      <th>699</th>\n",
       "      <td>786286427768250368</td>\n",
       "      <td>2016-10-12 19:24:27 +0000</td>\n",
       "      <td>&lt;a href=\"http://vine.co\" rel=\"nofollow\"&gt;Vine -...</td>\n",
       "      <td>This is Arnie. He's afraid of his own bark. 12...</td>\n",
       "      <td>https://vine.co/v/5XH0WqHwiFp</td>\n",
       "      <td>12</td>\n",
       "      <td>10</td>\n",
       "      <td>Arnie</td>\n",
       "      <td>None</td>\n",
       "      <td>None</td>\n",
       "      <td>...</td>\n",
       "      <td>NaN</td>\n",
       "      <td>NaN</td>\n",
       "      <td>NaN</td>\n",
       "      <td>NaN</td>\n",
       "      <td>NaN</td>\n",
       "      <td>NaN</td>\n",
       "      <td>NaN</td>\n",
       "      <td>NaN</td>\n",
       "      <td>2607.0</td>\n",
       "      <td>7389.0</td>\n",
       "    </tr>\n",
       "  </tbody>\n",
       "</table>\n",
       "<p>5 rows × 25 columns</p>\n",
       "</div>"
      ],
      "text/plain": [
       "                tweet_id                  timestamp  \\\n",
       "709   785170936622350336  2016-10-09 17:31:53 +0000   \n",
       "668   790277117346975746  2016-10-23 19:42:02 +0000   \n",
       "1145  727175381690781696  2016-05-02 16:38:15 +0000   \n",
       "2215  668542336805281792  2015-11-22 21:31:28 +0000   \n",
       "699   786286427768250368  2016-10-12 19:24:27 +0000   \n",
       "\n",
       "                                                 source  \\\n",
       "709   <a href=\"http://twitter.com/download/iphone\" r...   \n",
       "668   <a href=\"http://twitter.com/download/iphone\" r...   \n",
       "1145  <a href=\"http://twitter.com/download/iphone\" r...   \n",
       "2215  <a href=\"http://twitter.com/download/iphone\" r...   \n",
       "699   <a href=\"http://vine.co\" rel=\"nofollow\">Vine -...   \n",
       "\n",
       "                                                   text  \\\n",
       "709   This is Hero. He was enjoying the car ride unt...   \n",
       "668   This is Bruce. He never backs down from a chal...   \n",
       "1145  This is Karll. He just wants to go kayaking. 1...   \n",
       "2215  There's a lot going on here but in my honest o...   \n",
       "699   This is Arnie. He's afraid of his own bark. 12...   \n",
       "\n",
       "                                          expanded_urls  rating_numerator  \\\n",
       "709   https://twitter.com/dog_rates/status/785170936...                11   \n",
       "668   https://twitter.com/dog_rates/status/790277117...                11   \n",
       "1145  https://twitter.com/dog_rates/status/727175381...                10   \n",
       "2215  https://twitter.com/dog_rates/status/668542336...                10   \n",
       "699                       https://vine.co/v/5XH0WqHwiFp                12   \n",
       "\n",
       "      rating_denominator   name doggo floofer  ...   p1_conf p1_dog  \\\n",
       "709                   10   Hero  None    None  ...  0.891193  False   \n",
       "668                   10  Bruce  None    None  ...  0.427742   True   \n",
       "1145                  10  Karll  None    None  ...  0.656463   True   \n",
       "2215                  10   None  None    None  ...  0.267695   True   \n",
       "699                   10  Arnie  None    None  ...       NaN    NaN   \n",
       "\n",
       "                  p2   p2_conf p2_dog                         p3   p3_conf  \\\n",
       "709       eskimo_dog  0.027494   True                    samoyed  0.019530   \n",
       "668       great_dane  0.190503   True     curly-coated_retriever  0.146427   \n",
       "1145      great_dane  0.084766   True         labrador_retriever  0.058909   \n",
       "2215  french_bulldog  0.254050   True  staffordshire_bullterrier  0.212381   \n",
       "699              NaN       NaN    NaN                        NaN       NaN   \n",
       "\n",
       "     p3_dog  retweet_count favorite_count  \n",
       "709    True         4418.0        11100.0  \n",
       "668    True         2916.0        11582.0  \n",
       "1145   True         1223.0         3512.0  \n",
       "2215   True          178.0          388.0  \n",
       "699     NaN         2607.0         7389.0  \n",
       "\n",
       "[5 rows x 25 columns]"
      ]
     },
     "execution_count": 814,
     "metadata": {},
     "output_type": "execute_result"
    }
   ],
   "source": [
    "tweet_all.sample(5)"
   ]
  },
  {
   "cell_type": "markdown",
   "metadata": {},
   "source": [
    "### Issue #4:"
   ]
  },
  {
   "cell_type": "markdown",
   "metadata": {},
   "source": [
    "#### Define :\n",
    "'p1','p2','p3','p1_dog','p2_dog','p3_dog'changing the names of columns with undefined names"
   ]
  },
  {
   "cell_type": "markdown",
   "metadata": {},
   "source": [
    "#### Code"
   ]
  },
  {
   "cell_type": "code",
   "execution_count": 815,
   "metadata": {},
   "outputs": [],
   "source": [
    "tweet_all=tweet_all.rename(columns = {'p1':'dog_breed_1','p2':'dog_breed_2','p3':'dog_breed_3',\n",
    "                                      'p1_dog':'dog_prediction1','p2_dog':'dog_prediction2','p3_dog':'dog_prediction3'})"
   ]
  },
  {
   "cell_type": "markdown",
   "metadata": {},
   "source": [
    "#### Test"
   ]
  },
  {
   "cell_type": "code",
   "execution_count": 816,
   "metadata": {
    "scrolled": true
   },
   "outputs": [
    {
     "name": "stdout",
     "output_type": "stream",
     "text": [
      "<class 'pandas.core.frame.DataFrame'>\n",
      "Int64Index: 2175 entries, 0 to 2355\n",
      "Data columns (total 25 columns):\n",
      " #   Column              Non-Null Count  Dtype  \n",
      "---  ------              --------------  -----  \n",
      " 0   tweet_id            2175 non-null   int64  \n",
      " 1   timestamp           2175 non-null   object \n",
      " 2   source              2175 non-null   object \n",
      " 3   text                2175 non-null   object \n",
      " 4   expanded_urls       2117 non-null   object \n",
      " 5   rating_numerator    2175 non-null   int64  \n",
      " 6   rating_denominator  2175 non-null   int64  \n",
      " 7   name                2175 non-null   object \n",
      " 8   doggo               2175 non-null   object \n",
      " 9   floofer             2175 non-null   object \n",
      " 10  pupper              2175 non-null   object \n",
      " 11  puppo               2175 non-null   object \n",
      " 12  jpg_url             1994 non-null   object \n",
      " 13  img_num             1994 non-null   float64\n",
      " 14  dog_breed_1         1994 non-null   object \n",
      " 15  p1_conf             1994 non-null   float64\n",
      " 16  dog_prediction1     1994 non-null   object \n",
      " 17  dog_breed_2         1994 non-null   object \n",
      " 18  p2_conf             1994 non-null   float64\n",
      " 19  dog_prediction2     1994 non-null   object \n",
      " 20  dog_breed_3         1994 non-null   object \n",
      " 21  p3_conf             1994 non-null   float64\n",
      " 22  dog_prediction3     1994 non-null   object \n",
      " 23  retweet_count       2164 non-null   float64\n",
      " 24  favorite_count      2164 non-null   float64\n",
      "dtypes: float64(6), int64(3), object(16)\n",
      "memory usage: 441.8+ KB\n"
     ]
    }
   ],
   "source": [
    "tweet_all.info()"
   ]
  },
  {
   "cell_type": "markdown",
   "metadata": {},
   "source": [
    "### Issue #5:"
   ]
  },
  {
   "cell_type": "markdown",
   "metadata": {},
   "source": [
    "#### Define :\n",
    "\n",
    "convert columns 'retweet_count' and  'favorite_count'to integers  from float and fill the NaN values with '0'"
   ]
  },
  {
   "cell_type": "markdown",
   "metadata": {},
   "source": [
    "#### Code"
   ]
  },
  {
   "cell_type": "code",
   "execution_count": 817,
   "metadata": {},
   "outputs": [],
   "source": [
    "tweet_all['retweet_count'] = tweet_all['retweet_count'].fillna(0).astype(int)\n",
    "tweet_all['favorite_count'] = tweet_all['favorite_count'].fillna(0).astype(int)"
   ]
  },
  {
   "cell_type": "markdown",
   "metadata": {},
   "source": [
    "#### Test"
   ]
  },
  {
   "cell_type": "code",
   "execution_count": 818,
   "metadata": {
    "scrolled": true
   },
   "outputs": [
    {
     "name": "stdout",
     "output_type": "stream",
     "text": [
      "<class 'pandas.core.frame.DataFrame'>\n",
      "Int64Index: 2175 entries, 0 to 2355\n",
      "Data columns (total 25 columns):\n",
      " #   Column              Non-Null Count  Dtype  \n",
      "---  ------              --------------  -----  \n",
      " 0   tweet_id            2175 non-null   int64  \n",
      " 1   timestamp           2175 non-null   object \n",
      " 2   source              2175 non-null   object \n",
      " 3   text                2175 non-null   object \n",
      " 4   expanded_urls       2117 non-null   object \n",
      " 5   rating_numerator    2175 non-null   int64  \n",
      " 6   rating_denominator  2175 non-null   int64  \n",
      " 7   name                2175 non-null   object \n",
      " 8   doggo               2175 non-null   object \n",
      " 9   floofer             2175 non-null   object \n",
      " 10  pupper              2175 non-null   object \n",
      " 11  puppo               2175 non-null   object \n",
      " 12  jpg_url             1994 non-null   object \n",
      " 13  img_num             1994 non-null   float64\n",
      " 14  dog_breed_1         1994 non-null   object \n",
      " 15  p1_conf             1994 non-null   float64\n",
      " 16  dog_prediction1     1994 non-null   object \n",
      " 17  dog_breed_2         1994 non-null   object \n",
      " 18  p2_conf             1994 non-null   float64\n",
      " 19  dog_prediction2     1994 non-null   object \n",
      " 20  dog_breed_3         1994 non-null   object \n",
      " 21  p3_conf             1994 non-null   float64\n",
      " 22  dog_prediction3     1994 non-null   object \n",
      " 23  retweet_count       2175 non-null   int32  \n",
      " 24  favorite_count      2175 non-null   int32  \n",
      "dtypes: float64(4), int32(2), int64(3), object(16)\n",
      "memory usage: 424.8+ KB\n"
     ]
    },
    {
     "data": {
      "text/html": [
       "<div>\n",
       "<style scoped>\n",
       "    .dataframe tbody tr th:only-of-type {\n",
       "        vertical-align: middle;\n",
       "    }\n",
       "\n",
       "    .dataframe tbody tr th {\n",
       "        vertical-align: top;\n",
       "    }\n",
       "\n",
       "    .dataframe thead th {\n",
       "        text-align: right;\n",
       "    }\n",
       "</style>\n",
       "<table border=\"1\" class=\"dataframe\">\n",
       "  <thead>\n",
       "    <tr style=\"text-align: right;\">\n",
       "      <th></th>\n",
       "      <th>tweet_id</th>\n",
       "      <th>timestamp</th>\n",
       "      <th>source</th>\n",
       "      <th>text</th>\n",
       "      <th>expanded_urls</th>\n",
       "      <th>rating_numerator</th>\n",
       "      <th>rating_denominator</th>\n",
       "      <th>name</th>\n",
       "      <th>doggo</th>\n",
       "      <th>floofer</th>\n",
       "      <th>...</th>\n",
       "      <th>p1_conf</th>\n",
       "      <th>dog_prediction1</th>\n",
       "      <th>dog_breed_2</th>\n",
       "      <th>p2_conf</th>\n",
       "      <th>dog_prediction2</th>\n",
       "      <th>dog_breed_3</th>\n",
       "      <th>p3_conf</th>\n",
       "      <th>dog_prediction3</th>\n",
       "      <th>retweet_count</th>\n",
       "      <th>favorite_count</th>\n",
       "    </tr>\n",
       "  </thead>\n",
       "  <tbody>\n",
       "    <tr>\n",
       "      <th>1315</th>\n",
       "      <td>706681918348251136</td>\n",
       "      <td>2016-03-07 03:24:33 +0000</td>\n",
       "      <td>&lt;a href=\"http://twitter.com/download/iphone\" r...</td>\n",
       "      <td>Say hello to Katie. She's a Mitsubishi Hufflep...</td>\n",
       "      <td>https://twitter.com/dog_rates/status/706681918...</td>\n",
       "      <td>12</td>\n",
       "      <td>10</td>\n",
       "      <td>Katie</td>\n",
       "      <td>None</td>\n",
       "      <td>None</td>\n",
       "      <td>...</td>\n",
       "      <td>0.717584</td>\n",
       "      <td>True</td>\n",
       "      <td>miniature_poodle</td>\n",
       "      <td>0.151433</td>\n",
       "      <td>True</td>\n",
       "      <td>norwich_terrier</td>\n",
       "      <td>0.047087</td>\n",
       "      <td>True</td>\n",
       "      <td>882</td>\n",
       "      <td>2965</td>\n",
       "    </tr>\n",
       "    <tr>\n",
       "      <th>1685</th>\n",
       "      <td>681654059175129088</td>\n",
       "      <td>2015-12-29 01:52:46 +0000</td>\n",
       "      <td>&lt;a href=\"http://twitter.com/download/iphone\" r...</td>\n",
       "      <td>This is Toffee. He's a happy pupper. Appears d...</td>\n",
       "      <td>https://twitter.com/dog_rates/status/681654059...</td>\n",
       "      <td>12</td>\n",
       "      <td>10</td>\n",
       "      <td>Toffee</td>\n",
       "      <td>None</td>\n",
       "      <td>None</td>\n",
       "      <td>...</td>\n",
       "      <td>0.800538</td>\n",
       "      <td>True</td>\n",
       "      <td>chow</td>\n",
       "      <td>0.146892</td>\n",
       "      <td>True</td>\n",
       "      <td>pekinese</td>\n",
       "      <td>0.037613</td>\n",
       "      <td>True</td>\n",
       "      <td>809</td>\n",
       "      <td>2370</td>\n",
       "    </tr>\n",
       "    <tr>\n",
       "      <th>1428</th>\n",
       "      <td>697616773278015490</td>\n",
       "      <td>2016-02-11 03:02:54 +0000</td>\n",
       "      <td>&lt;a href=\"http://twitter.com/download/iphone\" r...</td>\n",
       "      <td>This pupper doubles as a hallway rug. Very rar...</td>\n",
       "      <td>https://twitter.com/dog_rates/status/697616773...</td>\n",
       "      <td>11</td>\n",
       "      <td>10</td>\n",
       "      <td>None</td>\n",
       "      <td>None</td>\n",
       "      <td>None</td>\n",
       "      <td>...</td>\n",
       "      <td>0.521931</td>\n",
       "      <td>True</td>\n",
       "      <td>shih-tzu</td>\n",
       "      <td>0.403451</td>\n",
       "      <td>True</td>\n",
       "      <td>tibetan_terrier</td>\n",
       "      <td>0.039912</td>\n",
       "      <td>True</td>\n",
       "      <td>912</td>\n",
       "      <td>2845</td>\n",
       "    </tr>\n",
       "    <tr>\n",
       "      <th>1735</th>\n",
       "      <td>679729593985699840</td>\n",
       "      <td>2015-12-23 18:25:38 +0000</td>\n",
       "      <td>&lt;a href=\"http://twitter.com/download/iphone\" r...</td>\n",
       "      <td>This is Hunter. He was playing with his ball m...</td>\n",
       "      <td>https://twitter.com/dog_rates/status/679729593...</td>\n",
       "      <td>8</td>\n",
       "      <td>10</td>\n",
       "      <td>Hunter</td>\n",
       "      <td>None</td>\n",
       "      <td>None</td>\n",
       "      <td>...</td>\n",
       "      <td>0.164215</td>\n",
       "      <td>False</td>\n",
       "      <td>west_highland_white_terrier</td>\n",
       "      <td>0.093515</td>\n",
       "      <td>True</td>\n",
       "      <td>ashcan</td>\n",
       "      <td>0.067278</td>\n",
       "      <td>False</td>\n",
       "      <td>733</td>\n",
       "      <td>1955</td>\n",
       "    </tr>\n",
       "    <tr>\n",
       "      <th>1603</th>\n",
       "      <td>685943807276412928</td>\n",
       "      <td>2016-01-09 21:58:42 +0000</td>\n",
       "      <td>&lt;a href=\"http://twitter.com/download/iphone\" r...</td>\n",
       "      <td>This is the newly formed pupper a capella grou...</td>\n",
       "      <td>https://twitter.com/dog_rates/status/685943807...</td>\n",
       "      <td>8</td>\n",
       "      <td>10</td>\n",
       "      <td>None</td>\n",
       "      <td>None</td>\n",
       "      <td>None</td>\n",
       "      <td>...</td>\n",
       "      <td>0.200812</td>\n",
       "      <td>True</td>\n",
       "      <td>toy_terrier</td>\n",
       "      <td>0.114512</td>\n",
       "      <td>True</td>\n",
       "      <td>cardigan</td>\n",
       "      <td>0.094520</td>\n",
       "      <td>True</td>\n",
       "      <td>525</td>\n",
       "      <td>1473</td>\n",
       "    </tr>\n",
       "  </tbody>\n",
       "</table>\n",
       "<p>5 rows × 25 columns</p>\n",
       "</div>"
      ],
      "text/plain": [
       "                tweet_id                  timestamp  \\\n",
       "1315  706681918348251136  2016-03-07 03:24:33 +0000   \n",
       "1685  681654059175129088  2015-12-29 01:52:46 +0000   \n",
       "1428  697616773278015490  2016-02-11 03:02:54 +0000   \n",
       "1735  679729593985699840  2015-12-23 18:25:38 +0000   \n",
       "1603  685943807276412928  2016-01-09 21:58:42 +0000   \n",
       "\n",
       "                                                 source  \\\n",
       "1315  <a href=\"http://twitter.com/download/iphone\" r...   \n",
       "1685  <a href=\"http://twitter.com/download/iphone\" r...   \n",
       "1428  <a href=\"http://twitter.com/download/iphone\" r...   \n",
       "1735  <a href=\"http://twitter.com/download/iphone\" r...   \n",
       "1603  <a href=\"http://twitter.com/download/iphone\" r...   \n",
       "\n",
       "                                                   text  \\\n",
       "1315  Say hello to Katie. She's a Mitsubishi Hufflep...   \n",
       "1685  This is Toffee. He's a happy pupper. Appears d...   \n",
       "1428  This pupper doubles as a hallway rug. Very rar...   \n",
       "1735  This is Hunter. He was playing with his ball m...   \n",
       "1603  This is the newly formed pupper a capella grou...   \n",
       "\n",
       "                                          expanded_urls  rating_numerator  \\\n",
       "1315  https://twitter.com/dog_rates/status/706681918...                12   \n",
       "1685  https://twitter.com/dog_rates/status/681654059...                12   \n",
       "1428  https://twitter.com/dog_rates/status/697616773...                11   \n",
       "1735  https://twitter.com/dog_rates/status/679729593...                 8   \n",
       "1603  https://twitter.com/dog_rates/status/685943807...                 8   \n",
       "\n",
       "      rating_denominator    name doggo floofer  ...   p1_conf dog_prediction1  \\\n",
       "1315                  10   Katie  None    None  ...  0.717584            True   \n",
       "1685                  10  Toffee  None    None  ...  0.800538            True   \n",
       "1428                  10    None  None    None  ...  0.521931            True   \n",
       "1735                  10  Hunter  None    None  ...  0.164215           False   \n",
       "1603                  10    None  None    None  ...  0.200812            True   \n",
       "\n",
       "                      dog_breed_2   p2_conf dog_prediction2      dog_breed_3  \\\n",
       "1315             miniature_poodle  0.151433            True  norwich_terrier   \n",
       "1685                         chow  0.146892            True         pekinese   \n",
       "1428                     shih-tzu  0.403451            True  tibetan_terrier   \n",
       "1735  west_highland_white_terrier  0.093515            True           ashcan   \n",
       "1603                  toy_terrier  0.114512            True         cardigan   \n",
       "\n",
       "       p3_conf dog_prediction3  retweet_count favorite_count  \n",
       "1315  0.047087            True            882           2965  \n",
       "1685  0.037613            True            809           2370  \n",
       "1428  0.039912            True            912           2845  \n",
       "1735  0.067278           False            733           1955  \n",
       "1603  0.094520            True            525           1473  \n",
       "\n",
       "[5 rows x 25 columns]"
      ]
     },
     "execution_count": 818,
     "metadata": {},
     "output_type": "execute_result"
    }
   ],
   "source": [
    "tweet_all.info()\n",
    "tweet_all.sample(5)"
   ]
  },
  {
   "cell_type": "markdown",
   "metadata": {},
   "source": [
    "### Issue #6:"
   ]
  },
  {
   "cell_type": "markdown",
   "metadata": {},
   "source": [
    "#### Define :\n",
    "abnormal numbers in 'rating_denominator' and 'rating_numerator'  columns . I realized that each of these was because there was more than one dog in the photo. and I did them this way"
   ]
  },
  {
   "cell_type": "markdown",
   "metadata": {},
   "source": [
    "#### Code"
   ]
  },
  {
   "cell_type": "code",
   "execution_count": 819,
   "metadata": {},
   "outputs": [],
   "source": [
    "tweet_all['new_numer'] = tweet_all.apply(\n",
    "    lambda x: (x.rating_numerator / (x.rating_denominator / 10)) if ((x.rating_denominator > 10) and (x.rating_denominator % 10 == 0)) else x.rating_numerator,axis=1)\n"
   ]
  },
  {
   "cell_type": "markdown",
   "metadata": {},
   "source": [
    "#### Test"
   ]
  },
  {
   "cell_type": "code",
   "execution_count": 820,
   "metadata": {},
   "outputs": [
    {
     "data": {
      "text/html": [
       "<div>\n",
       "<style scoped>\n",
       "    .dataframe tbody tr th:only-of-type {\n",
       "        vertical-align: middle;\n",
       "    }\n",
       "\n",
       "    .dataframe tbody tr th {\n",
       "        vertical-align: top;\n",
       "    }\n",
       "\n",
       "    .dataframe thead th {\n",
       "        text-align: right;\n",
       "    }\n",
       "</style>\n",
       "<table border=\"1\" class=\"dataframe\">\n",
       "  <thead>\n",
       "    <tr style=\"text-align: right;\">\n",
       "      <th></th>\n",
       "      <th>tweet_id</th>\n",
       "      <th>timestamp</th>\n",
       "      <th>source</th>\n",
       "      <th>text</th>\n",
       "      <th>expanded_urls</th>\n",
       "      <th>rating_numerator</th>\n",
       "      <th>rating_denominator</th>\n",
       "      <th>name</th>\n",
       "      <th>doggo</th>\n",
       "      <th>floofer</th>\n",
       "      <th>...</th>\n",
       "      <th>dog_prediction1</th>\n",
       "      <th>dog_breed_2</th>\n",
       "      <th>p2_conf</th>\n",
       "      <th>dog_prediction2</th>\n",
       "      <th>dog_breed_3</th>\n",
       "      <th>p3_conf</th>\n",
       "      <th>dog_prediction3</th>\n",
       "      <th>retweet_count</th>\n",
       "      <th>favorite_count</th>\n",
       "      <th>new_numer</th>\n",
       "    </tr>\n",
       "  </thead>\n",
       "  <tbody>\n",
       "    <tr>\n",
       "      <th>747</th>\n",
       "      <td>779834332596887552</td>\n",
       "      <td>2016-09-25 00:06:08 +0000</td>\n",
       "      <td>&lt;a href=\"http://twitter.com/download/iphone\" r...</td>\n",
       "      <td>This is Scout. He really wants to kiss himself...</td>\n",
       "      <td>https://twitter.com/dog_rates/status/779834332...</td>\n",
       "      <td>11</td>\n",
       "      <td>10</td>\n",
       "      <td>Scout</td>\n",
       "      <td>None</td>\n",
       "      <td>None</td>\n",
       "      <td>...</td>\n",
       "      <td>True</td>\n",
       "      <td>cocker_spaniel</td>\n",
       "      <td>0.003143</td>\n",
       "      <td>True</td>\n",
       "      <td>great_pyrenees</td>\n",
       "      <td>0.000917</td>\n",
       "      <td>True</td>\n",
       "      <td>6401</td>\n",
       "      <td>17338</td>\n",
       "      <td>11.0</td>\n",
       "    </tr>\n",
       "    <tr>\n",
       "      <th>2027</th>\n",
       "      <td>671874878652489728</td>\n",
       "      <td>2015-12-02 02:13:48 +0000</td>\n",
       "      <td>&lt;a href=\"http://twitter.com/download/iphone\" r...</td>\n",
       "      <td>This is Mia. She was specifically told not get...</td>\n",
       "      <td>https://twitter.com/dog_rates/status/671874878...</td>\n",
       "      <td>10</td>\n",
       "      <td>10</td>\n",
       "      <td>Mia</td>\n",
       "      <td>None</td>\n",
       "      <td>None</td>\n",
       "      <td>...</td>\n",
       "      <td>False</td>\n",
       "      <td>entertainment_center</td>\n",
       "      <td>0.001986</td>\n",
       "      <td>False</td>\n",
       "      <td>bookcase</td>\n",
       "      <td>0.001652</td>\n",
       "      <td>False</td>\n",
       "      <td>473</td>\n",
       "      <td>1085</td>\n",
       "      <td>10.0</td>\n",
       "    </tr>\n",
       "    <tr>\n",
       "      <th>241</th>\n",
       "      <td>846505985330044928</td>\n",
       "      <td>2017-03-27 23:35:28 +0000</td>\n",
       "      <td>&lt;a href=\"http://twitter.com/download/iphone\" r...</td>\n",
       "      <td>THIS WAS NOT HIS FAULT HE HAD NO IDEA. 11/10 S...</td>\n",
       "      <td>https://twitter.com/shomaristone/status/846484...</td>\n",
       "      <td>11</td>\n",
       "      <td>10</td>\n",
       "      <td>None</td>\n",
       "      <td>None</td>\n",
       "      <td>None</td>\n",
       "      <td>...</td>\n",
       "      <td>NaN</td>\n",
       "      <td>NaN</td>\n",
       "      <td>NaN</td>\n",
       "      <td>NaN</td>\n",
       "      <td>NaN</td>\n",
       "      <td>NaN</td>\n",
       "      <td>NaN</td>\n",
       "      <td>2714</td>\n",
       "      <td>12710</td>\n",
       "      <td>11.0</td>\n",
       "    </tr>\n",
       "    <tr>\n",
       "      <th>687</th>\n",
       "      <td>788039637453406209</td>\n",
       "      <td>2016-10-17 15:31:05 +0000</td>\n",
       "      <td>&lt;a href=\"http://twitter.com/download/iphone\" r...</td>\n",
       "      <td>Did... did they pick out that license plate? 1...</td>\n",
       "      <td>https://twitter.com/dog_rates/status/788039637...</td>\n",
       "      <td>12</td>\n",
       "      <td>10</td>\n",
       "      <td>None</td>\n",
       "      <td>None</td>\n",
       "      <td>None</td>\n",
       "      <td>...</td>\n",
       "      <td>False</td>\n",
       "      <td>minivan</td>\n",
       "      <td>0.304759</td>\n",
       "      <td>False</td>\n",
       "      <td>limousine</td>\n",
       "      <td>0.101702</td>\n",
       "      <td>False</td>\n",
       "      <td>1206</td>\n",
       "      <td>5651</td>\n",
       "      <td>12.0</td>\n",
       "    </tr>\n",
       "    <tr>\n",
       "      <th>1698</th>\n",
       "      <td>681193455364796417</td>\n",
       "      <td>2015-12-27 19:22:30 +0000</td>\n",
       "      <td>&lt;a href=\"http://twitter.com/download/iphone\" r...</td>\n",
       "      <td>This is Aspen. He's astronomically fluffy. I w...</td>\n",
       "      <td>https://twitter.com/dog_rates/status/681193455...</td>\n",
       "      <td>11</td>\n",
       "      <td>10</td>\n",
       "      <td>Aspen</td>\n",
       "      <td>None</td>\n",
       "      <td>None</td>\n",
       "      <td>...</td>\n",
       "      <td>True</td>\n",
       "      <td>keeshond</td>\n",
       "      <td>0.004356</td>\n",
       "      <td>True</td>\n",
       "      <td>schipperke</td>\n",
       "      <td>0.000814</td>\n",
       "      <td>True</td>\n",
       "      <td>1310</td>\n",
       "      <td>3339</td>\n",
       "      <td>11.0</td>\n",
       "    </tr>\n",
       "    <tr>\n",
       "      <th>1399</th>\n",
       "      <td>699691744225525762</td>\n",
       "      <td>2016-02-16 20:28:06 +0000</td>\n",
       "      <td>&lt;a href=\"http://twitter.com/download/iphone\" r...</td>\n",
       "      <td>This is Dave. He's a tropical pup. Short lil l...</td>\n",
       "      <td>https://twitter.com/dog_rates/status/699691744...</td>\n",
       "      <td>5</td>\n",
       "      <td>10</td>\n",
       "      <td>Dave</td>\n",
       "      <td>None</td>\n",
       "      <td>None</td>\n",
       "      <td>...</td>\n",
       "      <td>False</td>\n",
       "      <td>sea_lion</td>\n",
       "      <td>0.006295</td>\n",
       "      <td>False</td>\n",
       "      <td>dugong</td>\n",
       "      <td>0.005768</td>\n",
       "      <td>False</td>\n",
       "      <td>4088</td>\n",
       "      <td>9270</td>\n",
       "      <td>5.0</td>\n",
       "    </tr>\n",
       "    <tr>\n",
       "      <th>1375</th>\n",
       "      <td>701889187134500865</td>\n",
       "      <td>2016-02-22 21:59:57 +0000</td>\n",
       "      <td>&lt;a href=\"http://twitter.com/download/iphone\" r...</td>\n",
       "      <td>This is Bilbo. He's not emotionally prepared t...</td>\n",
       "      <td>https://twitter.com/dog_rates/status/701889187...</td>\n",
       "      <td>11</td>\n",
       "      <td>10</td>\n",
       "      <td>Bilbo</td>\n",
       "      <td>None</td>\n",
       "      <td>None</td>\n",
       "      <td>...</td>\n",
       "      <td>True</td>\n",
       "      <td>staffordshire_bullterrier</td>\n",
       "      <td>0.022634</td>\n",
       "      <td>True</td>\n",
       "      <td>soap_dispenser</td>\n",
       "      <td>0.011973</td>\n",
       "      <td>False</td>\n",
       "      <td>1242</td>\n",
       "      <td>3182</td>\n",
       "      <td>11.0</td>\n",
       "    </tr>\n",
       "    <tr>\n",
       "      <th>1436</th>\n",
       "      <td>697255105972801536</td>\n",
       "      <td>2016-02-10 03:05:46 +0000</td>\n",
       "      <td>&lt;a href=\"http://twitter.com/download/iphone\" r...</td>\n",
       "      <td>Meet Charlie. He likes to kiss all the big mil...</td>\n",
       "      <td>https://twitter.com/dog_rates/status/697255105...</td>\n",
       "      <td>10</td>\n",
       "      <td>10</td>\n",
       "      <td>Charlie</td>\n",
       "      <td>None</td>\n",
       "      <td>None</td>\n",
       "      <td>...</td>\n",
       "      <td>True</td>\n",
       "      <td>malinois</td>\n",
       "      <td>0.165888</td>\n",
       "      <td>True</td>\n",
       "      <td>doberman</td>\n",
       "      <td>0.119890</td>\n",
       "      <td>True</td>\n",
       "      <td>1042</td>\n",
       "      <td>2797</td>\n",
       "      <td>10.0</td>\n",
       "    </tr>\n",
       "    <tr>\n",
       "      <th>887</th>\n",
       "      <td>759923798737051648</td>\n",
       "      <td>2016-08-01 01:28:46 +0000</td>\n",
       "      <td>&lt;a href=\"http://twitter.com/download/iphone\" r...</td>\n",
       "      <td>We only rate dogs... this is a Taiwanese Guide...</td>\n",
       "      <td>https://twitter.com/dog_rates/status/759923798...</td>\n",
       "      <td>10</td>\n",
       "      <td>10</td>\n",
       "      <td>None</td>\n",
       "      <td>None</td>\n",
       "      <td>None</td>\n",
       "      <td>...</td>\n",
       "      <td>True</td>\n",
       "      <td>seat_belt</td>\n",
       "      <td>0.109168</td>\n",
       "      <td>False</td>\n",
       "      <td>pug</td>\n",
       "      <td>0.102466</td>\n",
       "      <td>True</td>\n",
       "      <td>0</td>\n",
       "      <td>0</td>\n",
       "      <td>10.0</td>\n",
       "    </tr>\n",
       "    <tr>\n",
       "      <th>1282</th>\n",
       "      <td>708738143638450176</td>\n",
       "      <td>2016-03-12 19:35:15 +0000</td>\n",
       "      <td>&lt;a href=\"http://twitter.com/download/iphone\" r...</td>\n",
       "      <td>This is Coco. She gets to stay on the Bachelor...</td>\n",
       "      <td>https://twitter.com/dog_rates/status/708738143...</td>\n",
       "      <td>11</td>\n",
       "      <td>10</td>\n",
       "      <td>Coco</td>\n",
       "      <td>None</td>\n",
       "      <td>None</td>\n",
       "      <td>...</td>\n",
       "      <td>True</td>\n",
       "      <td>samoyed</td>\n",
       "      <td>0.057221</td>\n",
       "      <td>True</td>\n",
       "      <td>west_highland_white_terrier</td>\n",
       "      <td>0.000904</td>\n",
       "      <td>True</td>\n",
       "      <td>729</td>\n",
       "      <td>2486</td>\n",
       "      <td>11.0</td>\n",
       "    </tr>\n",
       "  </tbody>\n",
       "</table>\n",
       "<p>10 rows × 26 columns</p>\n",
       "</div>"
      ],
      "text/plain": [
       "                tweet_id                  timestamp  \\\n",
       "747   779834332596887552  2016-09-25 00:06:08 +0000   \n",
       "2027  671874878652489728  2015-12-02 02:13:48 +0000   \n",
       "241   846505985330044928  2017-03-27 23:35:28 +0000   \n",
       "687   788039637453406209  2016-10-17 15:31:05 +0000   \n",
       "1698  681193455364796417  2015-12-27 19:22:30 +0000   \n",
       "1399  699691744225525762  2016-02-16 20:28:06 +0000   \n",
       "1375  701889187134500865  2016-02-22 21:59:57 +0000   \n",
       "1436  697255105972801536  2016-02-10 03:05:46 +0000   \n",
       "887   759923798737051648  2016-08-01 01:28:46 +0000   \n",
       "1282  708738143638450176  2016-03-12 19:35:15 +0000   \n",
       "\n",
       "                                                 source  \\\n",
       "747   <a href=\"http://twitter.com/download/iphone\" r...   \n",
       "2027  <a href=\"http://twitter.com/download/iphone\" r...   \n",
       "241   <a href=\"http://twitter.com/download/iphone\" r...   \n",
       "687   <a href=\"http://twitter.com/download/iphone\" r...   \n",
       "1698  <a href=\"http://twitter.com/download/iphone\" r...   \n",
       "1399  <a href=\"http://twitter.com/download/iphone\" r...   \n",
       "1375  <a href=\"http://twitter.com/download/iphone\" r...   \n",
       "1436  <a href=\"http://twitter.com/download/iphone\" r...   \n",
       "887   <a href=\"http://twitter.com/download/iphone\" r...   \n",
       "1282  <a href=\"http://twitter.com/download/iphone\" r...   \n",
       "\n",
       "                                                   text  \\\n",
       "747   This is Scout. He really wants to kiss himself...   \n",
       "2027  This is Mia. She was specifically told not get...   \n",
       "241   THIS WAS NOT HIS FAULT HE HAD NO IDEA. 11/10 S...   \n",
       "687   Did... did they pick out that license plate? 1...   \n",
       "1698  This is Aspen. He's astronomically fluffy. I w...   \n",
       "1399  This is Dave. He's a tropical pup. Short lil l...   \n",
       "1375  This is Bilbo. He's not emotionally prepared t...   \n",
       "1436  Meet Charlie. He likes to kiss all the big mil...   \n",
       "887   We only rate dogs... this is a Taiwanese Guide...   \n",
       "1282  This is Coco. She gets to stay on the Bachelor...   \n",
       "\n",
       "                                          expanded_urls  rating_numerator  \\\n",
       "747   https://twitter.com/dog_rates/status/779834332...                11   \n",
       "2027  https://twitter.com/dog_rates/status/671874878...                10   \n",
       "241   https://twitter.com/shomaristone/status/846484...                11   \n",
       "687   https://twitter.com/dog_rates/status/788039637...                12   \n",
       "1698  https://twitter.com/dog_rates/status/681193455...                11   \n",
       "1399  https://twitter.com/dog_rates/status/699691744...                 5   \n",
       "1375  https://twitter.com/dog_rates/status/701889187...                11   \n",
       "1436  https://twitter.com/dog_rates/status/697255105...                10   \n",
       "887   https://twitter.com/dog_rates/status/759923798...                10   \n",
       "1282  https://twitter.com/dog_rates/status/708738143...                11   \n",
       "\n",
       "      rating_denominator     name doggo floofer  ... dog_prediction1  \\\n",
       "747                   10    Scout  None    None  ...            True   \n",
       "2027                  10      Mia  None    None  ...           False   \n",
       "241                   10     None  None    None  ...             NaN   \n",
       "687                   10     None  None    None  ...           False   \n",
       "1698                  10    Aspen  None    None  ...            True   \n",
       "1399                  10     Dave  None    None  ...           False   \n",
       "1375                  10    Bilbo  None    None  ...            True   \n",
       "1436                  10  Charlie  None    None  ...            True   \n",
       "887                   10     None  None    None  ...            True   \n",
       "1282                  10     Coco  None    None  ...            True   \n",
       "\n",
       "                    dog_breed_2   p2_conf  dog_prediction2  \\\n",
       "747              cocker_spaniel  0.003143             True   \n",
       "2027       entertainment_center  0.001986            False   \n",
       "241                         NaN       NaN              NaN   \n",
       "687                     minivan  0.304759            False   \n",
       "1698                   keeshond  0.004356             True   \n",
       "1399                   sea_lion  0.006295            False   \n",
       "1375  staffordshire_bullterrier  0.022634             True   \n",
       "1436                   malinois  0.165888             True   \n",
       "887                   seat_belt  0.109168            False   \n",
       "1282                    samoyed  0.057221             True   \n",
       "\n",
       "                      dog_breed_3   p3_conf dog_prediction3 retweet_count  \\\n",
       "747                great_pyrenees  0.000917            True          6401   \n",
       "2027                     bookcase  0.001652           False           473   \n",
       "241                           NaN       NaN             NaN          2714   \n",
       "687                     limousine  0.101702           False          1206   \n",
       "1698                   schipperke  0.000814            True          1310   \n",
       "1399                       dugong  0.005768           False          4088   \n",
       "1375               soap_dispenser  0.011973           False          1242   \n",
       "1436                     doberman  0.119890            True          1042   \n",
       "887                           pug  0.102466            True             0   \n",
       "1282  west_highland_white_terrier  0.000904            True           729   \n",
       "\n",
       "      favorite_count new_numer  \n",
       "747            17338      11.0  \n",
       "2027            1085      10.0  \n",
       "241            12710      11.0  \n",
       "687             5651      12.0  \n",
       "1698            3339      11.0  \n",
       "1399            9270       5.0  \n",
       "1375            3182      11.0  \n",
       "1436            2797      10.0  \n",
       "887                0      10.0  \n",
       "1282            2486      11.0  \n",
       "\n",
       "[10 rows x 26 columns]"
      ]
     },
     "execution_count": 820,
     "metadata": {},
     "output_type": "execute_result"
    }
   ],
   "source": [
    "tweet_all.sample(10)"
   ]
  },
  {
   "cell_type": "markdown",
   "metadata": {},
   "source": [
    "### Issue #7:"
   ]
  },
  {
   "cell_type": "markdown",
   "metadata": {},
   "source": [
    "#### Define :\n",
    "Since the time column does not appear as time, I have shown it in time format."
   ]
  },
  {
   "cell_type": "markdown",
   "metadata": {},
   "source": [
    "#### Code"
   ]
  },
  {
   "cell_type": "code",
   "execution_count": 821,
   "metadata": {},
   "outputs": [],
   "source": [
    "import datetime as dt\n",
    "tweet_all['timestamp']=pd.to_datetime(tweet_all['timestamp'],format=\"%Y.%m.%d.%H.%M.%s.%f\",errors='ignore')\n",
    "tweet_all['timestamp'] = pd.to_datetime(tweet_all['timestamp'])\n",
    "tweet_all['year'] = tweet_all['timestamp'].dt.year"
   ]
  },
  {
   "cell_type": "markdown",
   "metadata": {},
   "source": [
    "#### Test"
   ]
  },
  {
   "cell_type": "code",
   "execution_count": 822,
   "metadata": {},
   "outputs": [
    {
     "data": {
      "text/plain": [
       "0      2017-08-01 16:23:56+00:00\n",
       "1      2017-08-01 00:17:27+00:00\n",
       "2      2017-07-31 00:18:03+00:00\n",
       "3      2017-07-30 15:58:51+00:00\n",
       "4      2017-07-29 16:00:24+00:00\n",
       "                  ...           \n",
       "2351   2015-11-16 00:24:50+00:00\n",
       "2352   2015-11-16 00:04:52+00:00\n",
       "2353   2015-11-15 23:21:54+00:00\n",
       "2354   2015-11-15 23:05:30+00:00\n",
       "2355   2015-11-15 22:32:08+00:00\n",
       "Name: timestamp, Length: 2175, dtype: datetime64[ns, UTC]"
      ]
     },
     "execution_count": 822,
     "metadata": {},
     "output_type": "execute_result"
    }
   ],
   "source": [
    "tweet_all['timestamp']"
   ]
  },
  {
   "cell_type": "markdown",
   "metadata": {},
   "source": [
    "### Issue #8:"
   ]
  },
  {
   "cell_type": "markdown",
   "metadata": {},
   "source": [
    "#### Define :\n",
    "I will extract the information from the source column containing html knowledge."
   ]
  },
  {
   "cell_type": "markdown",
   "metadata": {},
   "source": [
    "#### Code"
   ]
  },
  {
   "cell_type": "code",
   "execution_count": 823,
   "metadata": {},
   "outputs": [],
   "source": [
    "tweet_all['source']=tweet_all['source'].str.extract(\"(?<=\\>)(.*?)(?=\\<)\",expand=False).str.strip()"
   ]
  },
  {
   "cell_type": "markdown",
   "metadata": {},
   "source": [
    "#### Test"
   ]
  },
  {
   "cell_type": "code",
   "execution_count": 824,
   "metadata": {},
   "outputs": [
    {
     "data": {
      "text/plain": [
       "Twitter for iPhone     2042\n",
       "Vine - Make a Scene      91\n",
       "Twitter Web Client       31\n",
       "TweetDeck                11\n",
       "Name: source, dtype: int64"
      ]
     },
     "execution_count": 824,
     "metadata": {},
     "output_type": "execute_result"
    }
   ],
   "source": [
    "tweet_all['source'].value_counts()"
   ]
  },
  {
   "cell_type": "markdown",
   "metadata": {},
   "source": [
    "### Tidiness #1,2:"
   ]
  },
  {
   "cell_type": "markdown",
   "metadata": {},
   "source": [
    "#### Define :\n",
    "('doggo', 'floofer', 'pupper', 'puppo' )merging columns containing similar rows into a single column\n",
    "\n",
    "'doggo', 'floofer', 'pupper', 'puppo'.Deleting girths that contain the same lines and that we do not want"
   ]
  },
  {
   "cell_type": "markdown",
   "metadata": {},
   "source": [
    "#### Code"
   ]
  },
  {
   "cell_type": "code",
   "execution_count": 825,
   "metadata": {},
   "outputs": [],
   "source": [
    "def dog_rank(row):\n",
    "    ranks = ['doggo', 'floofer', 'pupper', 'puppo']\n",
    "    for r in ranks:\n",
    "        if row[r]!='None':\n",
    "            return r\n",
    "        \n",
    "tweet_all['dogtionary'] = tweet_all.apply(dog_rank, axis=1)"
   ]
  },
  {
   "cell_type": "code",
   "execution_count": 826,
   "metadata": {},
   "outputs": [],
   "source": [
    "tweet_all=tweet_all.drop(['doggo', 'floofer', 'pupper', 'puppo'], axis=1)"
   ]
  },
  {
   "cell_type": "markdown",
   "metadata": {},
   "source": [
    "#### Test"
   ]
  },
  {
   "cell_type": "code",
   "execution_count": 827,
   "metadata": {},
   "outputs": [
    {
     "name": "stdout",
     "output_type": "stream",
     "text": [
      "<class 'pandas.core.frame.DataFrame'>\n",
      "Int64Index: 2175 entries, 0 to 2355\n",
      "Data columns (total 24 columns):\n",
      " #   Column              Non-Null Count  Dtype              \n",
      "---  ------              --------------  -----              \n",
      " 0   tweet_id            2175 non-null   int64              \n",
      " 1   timestamp           2175 non-null   datetime64[ns, UTC]\n",
      " 2   source              2175 non-null   object             \n",
      " 3   text                2175 non-null   object             \n",
      " 4   expanded_urls       2117 non-null   object             \n",
      " 5   rating_numerator    2175 non-null   int64              \n",
      " 6   rating_denominator  2175 non-null   int64              \n",
      " 7   name                2175 non-null   object             \n",
      " 8   jpg_url             1994 non-null   object             \n",
      " 9   img_num             1994 non-null   float64            \n",
      " 10  dog_breed_1         1994 non-null   object             \n",
      " 11  p1_conf             1994 non-null   float64            \n",
      " 12  dog_prediction1     1994 non-null   object             \n",
      " 13  dog_breed_2         1994 non-null   object             \n",
      " 14  p2_conf             1994 non-null   float64            \n",
      " 15  dog_prediction2     1994 non-null   object             \n",
      " 16  dog_breed_3         1994 non-null   object             \n",
      " 17  p3_conf             1994 non-null   float64            \n",
      " 18  dog_prediction3     1994 non-null   object             \n",
      " 19  retweet_count       2175 non-null   int32              \n",
      " 20  favorite_count      2175 non-null   int32              \n",
      " 21  new_numer           2175 non-null   float64            \n",
      " 22  year                2175 non-null   int64              \n",
      " 23  dogtionary          344 non-null    object             \n",
      "dtypes: datetime64[ns, UTC](1), float64(5), int32(2), int64(4), object(12)\n",
      "memory usage: 407.8+ KB\n"
     ]
    }
   ],
   "source": [
    "tweet_all.info()"
   ]
  },
  {
   "cell_type": "markdown",
   "metadata": {},
   "source": [
    "### Tidiness #3:\n"
   ]
  },
  {
   "cell_type": "markdown",
   "metadata": {},
   "source": [
    "#### Define :\n",
    "Separate the urls in the text and save it in a new column"
   ]
  },
  {
   "cell_type": "markdown",
   "metadata": {},
   "source": [
    "#### Code"
   ]
  },
  {
   "cell_type": "code",
   "execution_count": 828,
   "metadata": {},
   "outputs": [],
   "source": [
    "tweet_all['text_link'] =tweet_all['text'].str.extract(r'(https?:\\/\\/(?:www\\.)?[-a-zA-Z0-9@:%._+~#=]{1,256}\\.[a-zA-Z0-9()]{1,6}[-a-zA-Z0-9()@:%_+.~#?&/=]*)',expand=True)"
   ]
  },
  {
   "cell_type": "markdown",
   "metadata": {},
   "source": [
    "#### Test"
   ]
  },
  {
   "cell_type": "code",
   "execution_count": 829,
   "metadata": {},
   "outputs": [
    {
     "data": {
      "text/plain": [
       "https://t.co/roqIxCvEB3    2\n",
       "https://t.co/MgUWQ76dJU    1\n",
       "https://t.co/nBtDeZ4yAb    1\n",
       "https://t.co/Yei0HzS3JN    1\n",
       "https://t.co/LoKVvc1xAW    1\n",
       "                          ..\n",
       "https://t.co/rfWQ4T9iQj    1\n",
       "https://t.co/9T2h14yn4Q    1\n",
       "https://t.co/4UrfOZhztW    1\n",
       "https://t.co/8W5iSOgXfx    1\n",
       "https://t.co/BLDqew2Ijj    1\n",
       "Name: text_link, Length: 2116, dtype: int64"
      ]
     },
     "execution_count": 829,
     "metadata": {},
     "output_type": "execute_result"
    }
   ],
   "source": [
    "tweet_all['text_link'].value_counts()\n"
   ]
  },
  {
   "cell_type": "markdown",
   "metadata": {},
   "source": [
    "### Tidiness #4:\n"
   ]
  },
  {
   "cell_type": "markdown",
   "metadata": {},
   "source": [
    "#### define:\n",
    "Combining 3 seemingly complex tables into one table."
   ]
  },
  {
   "cell_type": "markdown",
   "metadata": {},
   "source": [
    "#### code:"
   ]
  },
  {
   "cell_type": "raw",
   "metadata": {},
   "source": [
    "tweet_all=df_archive.merge(second_file,on='tweet_id',how=\"left\").merge(tweet_last,left_on='tweet_id',right_on=\"id\",how=\"left\")"
   ]
  },
  {
   "cell_type": "markdown",
   "metadata": {},
   "source": [
    "#### Test"
   ]
  },
  {
   "cell_type": "code",
   "execution_count": 830,
   "metadata": {},
   "outputs": [
    {
     "name": "stdout",
     "output_type": "stream",
     "text": [
      "<class 'pandas.core.frame.DataFrame'>\n",
      "Int64Index: 2175 entries, 0 to 2355\n",
      "Data columns (total 25 columns):\n",
      " #   Column              Non-Null Count  Dtype              \n",
      "---  ------              --------------  -----              \n",
      " 0   tweet_id            2175 non-null   int64              \n",
      " 1   timestamp           2175 non-null   datetime64[ns, UTC]\n",
      " 2   source              2175 non-null   object             \n",
      " 3   text                2175 non-null   object             \n",
      " 4   expanded_urls       2117 non-null   object             \n",
      " 5   rating_numerator    2175 non-null   int64              \n",
      " 6   rating_denominator  2175 non-null   int64              \n",
      " 7   name                2175 non-null   object             \n",
      " 8   jpg_url             1994 non-null   object             \n",
      " 9   img_num             1994 non-null   float64            \n",
      " 10  dog_breed_1         1994 non-null   object             \n",
      " 11  p1_conf             1994 non-null   float64            \n",
      " 12  dog_prediction1     1994 non-null   object             \n",
      " 13  dog_breed_2         1994 non-null   object             \n",
      " 14  p2_conf             1994 non-null   float64            \n",
      " 15  dog_prediction2     1994 non-null   object             \n",
      " 16  dog_breed_3         1994 non-null   object             \n",
      " 17  p3_conf             1994 non-null   float64            \n",
      " 18  dog_prediction3     1994 non-null   object             \n",
      " 19  retweet_count       2175 non-null   int32              \n",
      " 20  favorite_count      2175 non-null   int32              \n",
      " 21  new_numer           2175 non-null   float64            \n",
      " 22  year                2175 non-null   int64              \n",
      " 23  dogtionary          344 non-null    object             \n",
      " 24  text_link           2117 non-null   object             \n",
      "dtypes: datetime64[ns, UTC](1), float64(5), int32(2), int64(4), object(13)\n",
      "memory usage: 424.8+ KB\n"
     ]
    }
   ],
   "source": [
    "tweet_all.info()"
   ]
  },
  {
   "cell_type": "markdown",
   "metadata": {},
   "source": [
    "## Storing Data\n",
    "Save gathered, assessed, and cleaned master dataset to a CSV file named \"twitter_archive_master.csv\"."
   ]
  },
  {
   "cell_type": "code",
   "execution_count": 831,
   "metadata": {},
   "outputs": [],
   "source": [
    "tweet_all.to_csv(\"tweet_all.csv\",index=False)"
   ]
  },
  {
   "cell_type": "markdown",
   "metadata": {},
   "source": [
    "## Analyzing and Visualizing Data\n",
    "In this section, analyze and visualize your wrangled data. You must produce at least **three (3) insights and one (1) visualization.**"
   ]
  },
  {
   "cell_type": "code",
   "execution_count": 832,
   "metadata": {},
   "outputs": [],
   "source": [
    "import matplotlib.pyplot as plt\n",
    "import numpy as np"
   ]
  },
  {
   "cell_type": "markdown",
   "metadata": {},
   "source": [
    "### Insights:\n",
    "1.When we look at the table below, it is seen that the most tweeted dog type is \"golden retriever\"(150), \"labrador retriever\"(100), \"pembroke\"(), \"chihuahua\" (), and when we look at the most retweeted dog type, it is at the top. only \"labrador retriever\" and \"chihuahua\" were seen. The account holder has successfully gained momentum for these two dog breeds"
   ]
  },
  {
   "cell_type": "code",
   "execution_count": 833,
   "metadata": {
    "scrolled": true
   },
   "outputs": [
    {
     "data": {
      "text/plain": [
       "golden_retriever      139\n",
       "labrador_retriever     95\n",
       "pembroke               88\n",
       "chihuahua              79\n",
       "pug                    54\n",
       "chow                   41\n",
       "samoyed                40\n",
       "toy_poodle             38\n",
       "pomeranian             38\n",
       "malamute               29\n",
       "Name: dog_breed_1, dtype: int64"
      ]
     },
     "execution_count": 833,
     "metadata": {},
     "output_type": "execute_result"
    }
   ],
   "source": [
    "tweet_all[\"dog_breed_1\"].value_counts().head(10)\n"
   ]
  },
  {
   "cell_type": "code",
   "execution_count": 834,
   "metadata": {
    "scrolled": false
   },
   "outputs": [
    {
     "data": {
      "text/plain": [
       "dog_breed_1\n",
       "labrador_retriever    69523\n",
       "eskimo_dog            51980\n",
       "chihuahua             50791\n",
       "lakeland_terrier      39248\n",
       "english_springer      36801\n",
       "standard_poodle       33977\n",
       "arabian_camel         31859\n",
       "french_bulldog        29676\n",
       "swing                 28160\n",
       "bubble                27307\n",
       "Name: retweet_count, dtype: int32"
      ]
     },
     "execution_count": 834,
     "metadata": {},
     "output_type": "execute_result"
    }
   ],
   "source": [
    "tweet_all.groupby(\"dog_breed_1\")[\"retweet_count\"].max().sort_values(ascending=False).head(10)"
   ]
  },
  {
   "cell_type": "markdown",
   "metadata": {},
   "source": [
    "### Insights:\n",
    "2.When we look at the table below, the average score we give to dogs has increased over the years."
   ]
  },
  {
   "cell_type": "code",
   "execution_count": 835,
   "metadata": {
    "scrolled": true
   },
   "outputs": [
    {
     "data": {
      "text/html": [
       "<div>\n",
       "<style scoped>\n",
       "    .dataframe tbody tr th:only-of-type {\n",
       "        vertical-align: middle;\n",
       "    }\n",
       "\n",
       "    .dataframe tbody tr th {\n",
       "        vertical-align: top;\n",
       "    }\n",
       "\n",
       "    .dataframe thead th {\n",
       "        text-align: right;\n",
       "    }\n",
       "</style>\n",
       "<table border=\"1\" class=\"dataframe\">\n",
       "  <thead>\n",
       "    <tr style=\"text-align: right;\">\n",
       "      <th></th>\n",
       "      <th>new_numer</th>\n",
       "    </tr>\n",
       "    <tr>\n",
       "      <th>year</th>\n",
       "      <th></th>\n",
       "    </tr>\n",
       "  </thead>\n",
       "  <tbody>\n",
       "    <tr>\n",
       "      <th>2015</th>\n",
       "      <td>9.931686</td>\n",
       "    </tr>\n",
       "    <tr>\n",
       "      <th>2016</th>\n",
       "      <td>12.491728</td>\n",
       "    </tr>\n",
       "    <tr>\n",
       "      <th>2017</th>\n",
       "      <td>17.872180</td>\n",
       "    </tr>\n",
       "  </tbody>\n",
       "</table>\n",
       "</div>"
      ],
      "text/plain": [
       "      new_numer\n",
       "year           \n",
       "2015   9.931686\n",
       "2016  12.491728\n",
       "2017  17.872180"
      ]
     },
     "execution_count": 835,
     "metadata": {},
     "output_type": "execute_result"
    }
   ],
   "source": [
    "n=tweet_all.pivot_table(values=\"new_numer\",index='year',aggfunc=np.mean)\n",
    "n"
   ]
  },
  {
   "cell_type": "markdown",
   "metadata": {},
   "source": [
    "### Insights:\n",
    "3.When we look at the table below, the total number of favorites we received from tweets has increased over the years, but there was a decrease of 666.565 in our total number of retweets in 2017 compared to 2016.When we looked at the correlation between the number of retweets and the number of favorites, it was seen that there was a positive correlation."
   ]
  },
  {
   "cell_type": "code",
   "execution_count": 836,
   "metadata": {
    "scrolled": false
   },
   "outputs": [
    {
     "data": {
      "text/html": [
       "<div>\n",
       "<style scoped>\n",
       "    .dataframe tbody tr th:only-of-type {\n",
       "        vertical-align: middle;\n",
       "    }\n",
       "\n",
       "    .dataframe tbody tr th {\n",
       "        vertical-align: top;\n",
       "    }\n",
       "\n",
       "    .dataframe thead tr th {\n",
       "        text-align: left;\n",
       "    }\n",
       "\n",
       "    .dataframe thead tr:last-of-type th {\n",
       "        text-align: right;\n",
       "    }\n",
       "</style>\n",
       "<table border=\"1\" class=\"dataframe\">\n",
       "  <thead>\n",
       "    <tr>\n",
       "      <th></th>\n",
       "      <th colspan=\"2\" halign=\"left\">sum</th>\n",
       "    </tr>\n",
       "    <tr>\n",
       "      <th></th>\n",
       "      <th>favorite_count</th>\n",
       "      <th>retweet_count</th>\n",
       "    </tr>\n",
       "    <tr>\n",
       "      <th>year</th>\n",
       "      <th></th>\n",
       "      <th></th>\n",
       "    </tr>\n",
       "  </thead>\n",
       "  <tbody>\n",
       "    <tr>\n",
       "      <th>2015</th>\n",
       "      <td>1457155</td>\n",
       "      <td>593241</td>\n",
       "    </tr>\n",
       "    <tr>\n",
       "      <th>2016</th>\n",
       "      <td>6996618</td>\n",
       "      <td>2397697</td>\n",
       "    </tr>\n",
       "    <tr>\n",
       "      <th>2017</th>\n",
       "      <td>7537122</td>\n",
       "      <td>1767390</td>\n",
       "    </tr>\n",
       "  </tbody>\n",
       "</table>\n",
       "</div>"
      ],
      "text/plain": [
       "                sum              \n",
       "     favorite_count retweet_count\n",
       "year                             \n",
       "2015        1457155        593241\n",
       "2016        6996618       2397697\n",
       "2017        7537122       1767390"
      ]
     },
     "execution_count": 836,
     "metadata": {},
     "output_type": "execute_result"
    }
   ],
   "source": [
    "m=tweet_all.pivot_table(values=[\"retweet_count\",'favorite_count'],index='year',aggfunc=[np.sum])\n",
    "m\n"
   ]
  },
  {
   "cell_type": "code",
   "execution_count": 837,
   "metadata": {
    "scrolled": true
   },
   "outputs": [
    {
     "data": {
      "text/plain": [
       "<AxesSubplot:xlabel='year'>"
      ]
     },
     "execution_count": 837,
     "metadata": {},
     "output_type": "execute_result"
    },
    {
     "data": {
      "image/png": "[encoded data removed]",
      "text/plain": [
       "<Figure size 432x288 with 1 Axes>"
      ]
     },
     "metadata": {
      "needs_background": "light"
     },
     "output_type": "display_data"
    }
   ],
   "source": [
    "m.plot(kind=\"bar\")"
   ]
  },
  {
   "cell_type": "code",
   "execution_count": 838,
   "metadata": {},
   "outputs": [
    {
     "data": {
      "text/plain": [
       "<AxesSubplot:xlabel='retweet_count', ylabel='favorite_count'>"
      ]
     },
     "execution_count": 838,
     "metadata": {},
     "output_type": "execute_result"
    },
    {
     "data": {
      "image/png": "[encoded data removed]",
      "text/plain": [
       "<Figure size 432x288 with 1 Axes>"
      ]
     },
     "metadata": {
      "needs_background": "light"
     },
     "output_type": "display_data"
    }
   ],
   "source": [
    "tweet_all.plot( x='retweet_count',y=\"favorite_count\",kind=\"scatter\")"
   ]
  }
 ],
 "metadata": {
  "extensions": {
   "jupyter_dashboards": {
    "activeView": "report_default",
    "version": 1,
    "views": {
     "grid_default": {
      "cellMargin": 10,
      "defaultCellHeight": 20,
      "maxColumns": 12,
      "name": "grid",
      "type": "grid"
     },
     "report_default": {
      "name": "report",
      "type": "report"
     }
    }
   }
  },
  "kernelspec": {
   "display_name": "Python 3 (ipykernel)",
   "language": "python",
   "name": "python3"
  },
  "language_info": {
   "codemirror_mode": {
    "name": "ipython",
    "version": 3
   },
   "file_extension": ".py",
   "mimetype": "text/x-python",
   "name": "python",
   "nbconvert_exporter": "python",
   "pygments_lexer": "ipython3",
   "version": "3.9.12"
  }
 },
 "nbformat": 4,
 "nbformat_minor": 2
}
